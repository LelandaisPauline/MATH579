{
 "cells": [
  {
   "cell_type": "code",
   "execution_count": 1,
   "metadata": {},
   "outputs": [],
   "source": [
    "import numpy as np\n",
    "import math\n",
    "import scipy as sp\n",
    "from scipy.integrate import quad, dblquad"
   ]
  },
  {
   "cell_type": "markdown",
   "metadata": {},
   "source": [
    "So I've tried to implement a mesh refinement algorithm in another notebook I have that is primarily aimed at solving the PDE, but it's bugged and I think at this point it's a problem of organisation. So I'll try to solve this problem separately here so that I can focus on debbuging the actual PDE solver in the other notebook."
   ]
  },
  {
   "cell_type": "markdown",
   "metadata": {},
   "source": [
    "Ultimately what I'd like to do is to only input the nodes, and the mesh generates itself. Or better even, I just give the dimensions of a square, wether I want it with a corner or not and if so, the angle of the corner. \n",
    "As much as possible I will try to re use functions so that I dont have to write too many of them. So far I needed 5 functions to construct a square mesh of any given side length."
   ]
  },
  {
   "cell_type": "markdown",
   "metadata": {},
   "source": [
    "Mesh Generating Functions for a Square Mesh:"
   ]
  },
  {
   "cell_type": "code",
   "execution_count": 2,
   "metadata": {},
   "outputs": [],
   "source": [
    "def add_index (liste):\n",
    "    #turns an array : [ [n_1,a_1,b_1,c_1] , [n_2,a_2,b_2,c_2] , ..., [n_k,a_k,b_k,c_k]]\n",
    "    #into an indexed array : [ [1,a_1,b_1,c_1] , [2,a_2,b_2,c_2] , ..., [k,a_k,b_k,c_k] ]\n",
    "    l=len(liste)\n",
    "    new=[]\n",
    "    for i in range(l):\n",
    "        temp=liste[i]\n",
    "        temp[0]=i+1\n",
    "        new.append(temp)\n",
    "    return new"
   ]
  },
  {
   "cell_type": "code",
   "execution_count": 3,
   "metadata": {},
   "outputs": [],
   "source": [
    "def generate_coordinates(array):\n",
    "    #takes in an array of x values and generates a grid \n",
    "    #returns an indexed list of coordinates\n",
    "    grid=[] #initializing\n",
    "    for j in range (len(array)): #now we generate the square mesh\n",
    "        for i in range(len(array)):\n",
    "            grid.append([i, array[i], array[j]])\n",
    "    grid=add_index(grid)\n",
    "    return grid"
   ]
  },
  {
   "cell_type": "code",
   "execution_count": 4,
   "metadata": {},
   "outputs": [],
   "source": [
    "def generate_rectangles (l, grid):\n",
    "    #takes in an array of nodes in a square and constructs subrectangles\n",
    "    #returns an indexed list of nodes \n",
    "    rectangles=[]\n",
    "    L=l-1\n",
    "    for i in range(L): #we know we'll get L*L squares\n",
    "        for j in range(L):\n",
    "            rectangles.append([i,grid[j+i*l][0],grid[j+1+i*l][0],grid[j+1+(i+1)*l][0],grid[j+(i+1)*l][0]])\n",
    "            #the indexing is compliacted because we have to make sure the 4 point we put together\n",
    "            #are actually next to each other\n",
    "    rectangles=add_index(rectangles)\n",
    "    return rectangles"
   ]
  },
  {
   "cell_type": "code",
   "execution_count": 5,
   "metadata": {},
   "outputs": [],
   "source": [
    "def generate_edges(shapes):\n",
    "    #takes in an indexed list of shapes, I'm trying to have this work for triangles as well\n",
    "    #returns a list of edges (without copies)\n",
    "    edges=[]\n",
    "    for i in range(len(shapes)):\n",
    "        p=len(shapes[i])-1 \n",
    "        for j in range(p):\n",
    "            append=1\n",
    "            temp=[shapes[i][1+j%p],shapes[i][1+(j+1)%p]]\n",
    "            rev_temp=[shapes[i][1+(j+1)%p],shapes[i][1+j%p] ]\n",
    "            if len(edges)==0: #the for-loops don't work if l=0 unfortunately\n",
    "                append=1\n",
    "            else:\n",
    "                for k in range(len(edges)):\n",
    "                    if edges[k] == temp: #check if we already have that edge\n",
    "                        append=0\n",
    "                    if edges[k]==rev_temp: #or if we have the inverted direction edge\n",
    "                        append=0\n",
    "            if append ==1:\n",
    "                edges.append(temp) #if we dont, add it\n",
    "    return edges"
   ]
  },
  {
   "cell_type": "code",
   "execution_count": 6,
   "metadata": {},
   "outputs": [],
   "source": [
    "def generate_boundary (edges, grid):\n",
    "    #takes in the list of edge in the mesh and the array of coordinates of the nodes\n",
    "    #returns an array [neummann, dirichlet]\n",
    "    neumann=[]\n",
    "    dirichlet=[]\n",
    "    for i in range(len(edges)):\n",
    "        a=grid[edges[i][0]-1]#start point\n",
    "        b=grid[edges[i][1]-1]#end point of the edge\n",
    "        if a[1]==0.0:\n",
    "            if b[1]==0.0: #check if edge lies along y-axis\n",
    "                dirichlet.append(edges[i])\n",
    "        if a[1]==dimension:\n",
    "            if b[1]==dimension: #check if edge lies along x=dimension\n",
    "                neumann.append(edges[i])\n",
    "        if a[2]==dimension:\n",
    "            if b[2]==dimension: #check if edge lies along y=dimension\n",
    "                dirichlet.append(edges[i])\n",
    "        if a[2]==0.0:\n",
    "            if b[2]==0.0: #check if edge lies along x-axis\n",
    "                neumann.append(edges[i])\n",
    "    return ([neumann, dirichlet])"
   ]
  },
  {
   "cell_type": "code",
   "execution_count": 7,
   "metadata": {},
   "outputs": [],
   "source": [
    "def square_mesh (dimension):\n",
    "    #generates a square mesh of side length = dimension\n",
    "    #returns a list of arrays\n",
    "    array=np.linspace(0, dimension, math.ceil(dimension)+1) #we first generate the coordinates in 1D\n",
    "    grid= generate_coordinates(array) #then we generate the grid\n",
    "    triangles=[] #there are no triangles in a square mesh\n",
    "    rectangles=generate_rectangles (len(array), grid) #we use it to construct the subrectangles\n",
    "    edges=generate_edges(rectangles)#collect the edges\n",
    "    boundary=generate_boundary (edges, grid)#construct the boundaries\n",
    "    #boundary[0] : neumann   ;   boundary[1] : dirichlet  \n",
    "    ##\n",
    "    return [grid, triangles, rectangles, edges, boundary[0], boundary[1]]"
   ]
  },
  {
   "cell_type": "markdown",
   "metadata": {},
   "source": [
    "Now we will try to generate a mesh with a re-entrant corner such that the user can input any angle (between 0 and 180 degrees). If I restrict the corner to be at the bottom right of the mesh, think what I can do is split it into 2 meshes : the bottom right 3 cubes and the rest of the mesh. The bottom right will then be four triangles and the rest of the mesh will be a collection of squares. Actually maybe I could do everything like a square mesh and then delete the data for the bottom right corner. Note the particular case when angle ==90, I'll just remove a square at the bottom."
   ]
  },
  {
   "cell_type": "markdown",
   "metadata": {},
   "source": [
    "Functions to Turn a Square Mesh into a Mesh with a Corner :"
   ]
  },
  {
   "cell_type": "code",
   "execution_count": 8,
   "metadata": {},
   "outputs": [],
   "source": [
    "def find_and_remove_edges (l,liste):\n",
    "    #very specific function but I use it twice\n",
    "    #takes in a list of edges and the collection of triangles\n",
    "    # removes from that list the 2 bottom right edges\n",
    "    test_list=[[l,l-1],[l,2*l]]\n",
    "    index_list=[]\n",
    "    for i in range(2):#then we find the egdes we have to remove\n",
    "        test=test_list[i]\n",
    "        for j in range(len(liste)):\n",
    "            temp=liste[j]\n",
    "            if test[0]==temp[0]:\n",
    "                if test[1]==temp[1]:\n",
    "                    index_list.append(j)\n",
    "            if test[1]==temp[0]:\n",
    "                if test[0]==temp[1]:\n",
    "                    index_list.append(j)\n",
    "    index_list.sort() #arranges the list increasing order\n",
    "    for i in range(len(index_list)): #then we remove them\n",
    "        I=len(index_list)-1-i#we start from the end\n",
    "        liste=np.delete(liste, index_list[I], 0)\n",
    "    return liste"
   ]
  },
  {
   "cell_type": "code",
   "execution_count": 9,
   "metadata": {},
   "outputs": [],
   "source": [
    "def pushback_index(liste):\n",
    "    #takes in an indexed list of nodes, and the index of the removed_node\n",
    "    #returns same list but every node k>4 becomes k-1\n",
    "    node=math.ceil(dimension)+1\n",
    "    new=[]\n",
    "    for i in range(len(liste)):\n",
    "        temp=liste[i]\n",
    "        if len(temp)==2: #if that length is 2 then it's an edgel list so no index\n",
    "            copy=[]\n",
    "            for j in range(len(temp)):\n",
    "                test=temp[j]\n",
    "                if test>node:\n",
    "                    test=test-1\n",
    "                copy.append(test)\n",
    "        else: #else its either rectangles or triangles and we have to take care of the index\n",
    "            copy=[i+1]\n",
    "            for j in range(len(temp)-1):\n",
    "                test=temp[1+j]\n",
    "                if test>node:\n",
    "                    test=test-1\n",
    "                copy.append(test)\n",
    "        new.append(copy)\n",
    "    return new"
   ]
  },
  {
   "cell_type": "code",
   "execution_count": 10,
   "metadata": {},
   "outputs": [],
   "source": [
    "def adjust_grid(l, angle, grid):\n",
    "    #takes in a square mesh and an angle in degrees\n",
    "    #changes the 3 bottom right node's coordinates so that the mesh has a \n",
    "    #re-entrant corner of degree = angle\n",
    "    phi=45-angle*1/2\n",
    "    step=grid[l-2][1]-grid[l-3][1]\n",
    "    x=abs(math.tan(phi)*step)\n",
    "    grid[l-2][1]=grid[l-2][1]+phi/abs(phi)*x\n",
    "    grid[2*l-1][2]=grid[2*l-1][2]-phi/abs(phi)*x\n",
    "    grid=np.delete(grid, l-1,0)#then we delete the bottom right node\n",
    "    grid=add_index (grid.tolist())\n",
    "    return grid"
   ]
  },
  {
   "cell_type": "code",
   "execution_count": 11,
   "metadata": {},
   "outputs": [],
   "source": [
    "def generate_triangles (rectangles, l):\n",
    "    #takes in a collectino of squares in a square mesh\n",
    "    #returns a list of four rectangles in the bottom right corner\n",
    "    triangles=[]\n",
    "    change_list=[rectangles[l-3], rectangles[2*(l-1)-1]]\n",
    "    for i in range(2):\n",
    "        diagonal=[change_list[i][2],change_list[i][4]]\n",
    "        for j in range(2):\n",
    "            triangles.append([j,diagonal[0], diagonal[1], change_list[i][1+j*2]])\n",
    "    return triangles"
   ]
  },
  {
   "cell_type": "code",
   "execution_count": 12,
   "metadata": {},
   "outputs": [],
   "source": [
    "def adjust_rectangles(rectangles,l,boolean):\n",
    "    #takes in a collection of rectangles \n",
    "    #returns the same list but without 3 bottom right squares if boolean==0\n",
    "    #return the same list but without  bottom right square if boolean==1\n",
    "    if boolean ==0 :\n",
    "        rectangles=np.delete(rectangles, 2*(l-1)-1, 0)\n",
    "        rectangles=np.delete(rectangles, l-2, 0)\n",
    "        rectangles=np.delete(rectangles, l-3, 0)\n",
    "    if boolean ==1 :\n",
    "        rectangles=np.delete(rectangles, l-2, 0)\n",
    "    rectangles=pushback_index(rectangles)\n",
    "    return rectangles"
   ]
  },
  {
   "cell_type": "code",
   "execution_count": 13,
   "metadata": {},
   "outputs": [],
   "source": [
    "def adjust_edges (l, edges, triangles):\n",
    "    #takes in the list of egdes and the collection of triangles\n",
    "    #adds the diagonals of the triangles and remove bottom right corner edges\n",
    "    for i in range(2): #we'll add the new edges first\n",
    "        edges.append([triangles[i*2][1],triangles[i*2][2]])\n",
    "    edges=find_and_remove_edges (l,edges)#then we remove\n",
    "    edges=pushback_index(edges)\n",
    "    return edges"
   ]
  },
  {
   "cell_type": "code",
   "execution_count": 14,
   "metadata": {},
   "outputs": [],
   "source": [
    "def adjust_boundary(l, neumann, dirichlet, p_r):\n",
    "    #takes in the previous boundary arrays and the previous rectangle collection\n",
    "    #removes bottom right corner from neumann, adds corner to dirichlet\n",
    "    neumann=find_and_remove_edges (l,neumann)\n",
    "    for i in range(2):\n",
    "        dirichlet.append([p_r[l-2][1+(i+2)%4],p_r[l-2][1+(i+3)%4]])\n",
    "    return [pushback_index(neumann), pushback_index(dirichlet)]"
   ]
  },
  {
   "cell_type": "code",
   "execution_count": 15,
   "metadata": {},
   "outputs": [],
   "source": [
    "def angle_mesh(dimension, angle):\n",
    "    l=math.ceil(dimension)+1\n",
    "    mesh=square_mesh(dimension) #we do everything like a square mesh\n",
    "    #but we will make adjustments to the bottom right corner\n",
    "    grid=adjust_grid(l, angle, mesh[0])\n",
    "    triangles=generate_triangles (mesh[2], l)\n",
    "    rectangles=adjust_rectangles(mesh[2],l,0)\n",
    "    edges=adjust_edges (l, mesh[3], triangles)\n",
    "    boundary=adjust_boundary(l, mesh[4], mesh[5], mesh[2]) #[0]neumann, [1]dirichlet\n",
    "    ##\n",
    "    return [grid, pushback_index(triangles), rectangles, pushback_index(edges), boundary[0], boundary[1]]\n"
   ]
  },
  {
   "cell_type": "markdown",
   "metadata": {},
   "source": [
    "So far I've needed 6 functions to generate an mesh with a re-entrant corner of non-right angle. I'll need a special function for the 90 degrees one since there are also no triangles in that mesh. EDIT : One thing I forgot to take care of was the re-indexing. It's nice if I'm not skipping a number in my indexing so I have to re-index all the rectangles past the first one. "
   ]
  },
  {
   "cell_type": "code",
   "execution_count": 16,
   "metadata": {},
   "outputs": [],
   "source": [
    "def corner_mesh(dimension):\n",
    "    mesh=square_mesh(dimension) #we do everything like a square mesh\n",
    "    l=math.ceil(dimension)+1\n",
    "    grid=add_index((np.delete(mesh[0], l-1,0)).tolist())#we delete the bottom right node\n",
    "    rectangles=adjust_rectangles(mesh[2],l,1)\n",
    "    edges=find_and_remove_edges (l,mesh[3])\n",
    "    boundary=adjust_boundary(l, mesh[4], mesh[5], mesh[2])\n",
    "    return [grid, mesh[1], rectangles, pushback_index(edges.tolist()), boundary[0], boundary[1]]"
   ]
  },
  {
   "cell_type": "code",
   "execution_count": 17,
   "metadata": {},
   "outputs": [],
   "source": [
    "def generate_mesh (dimension, corner, angle):\n",
    "    #input : length, boolean, angle in degrees\n",
    "    #returns an array [coordinates[], triangles[], rectangles[], edges[], neumann[], dirichlet[]]\n",
    "    mesh=[]\n",
    "    if corner ==1:\n",
    "        if abs(angle-90.)<19. :# the math.tan() function blows up if too close \n",
    "                  # to a right angle so we will treat those as 90deg angles\n",
    "                mesh= corner_mesh(dimension)\n",
    "        else:\n",
    "            mesh=angle_mesh(dimension, angle)\n",
    "    else : \n",
    "        mesh=square_mesh(dimension)\n",
    "    return mesh"
   ]
  },
  {
   "cell_type": "markdown",
   "metadata": {},
   "source": [
    "In hindsight it may not be very useful to have a dimension input, since what we really want for a more precise solution to the PDE is a tighter grid. However it didnt cost me much to implement this extra degree of freedom and it enable me to further test the code. Also note that because dimension is assigned in my console cell, it is a global variable so I technically do not need to pass it on anywhere (I will come back and make the code prettier if I have time)."
   ]
  },
  {
   "cell_type": "code",
   "execution_count": 18,
   "metadata": {},
   "outputs": [],
   "source": [
    "dimension=3.0 #float, length of the square that contains the mesh\n",
    "corner=0 #acts as boolean\n",
    "angle=45. #float, angle of the corner in degrees between 0 and 180.\n",
    "            # note that if angle is between 71 and 109 it'll be interpreted as a right angle\n",
    "#####\n",
    "mesh=generate_mesh(dimension, corner, angle)"
   ]
  },
  {
   "cell_type": "markdown",
   "metadata": {},
   "source": [
    "Now we want to implement a mesh refinement algorithm that will basically split every triangle into 4 smaller triangles and every rectangles in 4 smaller rectangles as well.\n",
    "I already coded something like that a few weeks ago but the challenge here is to make sure that it works with the input format I have from my mesh generating function. Unsurprisingly I ran into a lot of troubles between np arrays and lists so I think I'll reformat my output to lists before doing anything. EDIT : since I had to go back into my mesh generating functino to account for the shift in indexes my outputs are back in list format. But that's only if I have a corner mesh. So I need an if statement to reformat the output in case of a square mesh."
   ]
  },
  {
   "cell_type": "markdown",
   "metadata": {},
   "source": [
    "Mesh Refinement :"
   ]
  },
  {
   "cell_type": "code",
   "execution_count": 19,
   "metadata": {},
   "outputs": [],
   "source": [
    "def gcent (nodes):\n",
    "    #takesin array of coordinates of an element\n",
    "    #returns coordinates of center of gravity of element\n",
    "    l = len(nodes) #either 2, 3 or 4\n",
    "    x=0\n",
    "    y=0\n",
    "    for i in range(l): #either 0-1, 0-2 or 0-3\n",
    "        x+= nodes[i][1]\n",
    "        y+=nodes[i][2]\n",
    "    x=x/l\n",
    "    y=y/l\n",
    "    return [x,y]"
   ]
  },
  {
   "cell_type": "markdown",
   "metadata": {},
   "source": [
    "The next 2 functions are really long but I haven't really found a way around it and since nothing is very re-usable there isn't really a point in splitting them any further.It's really just a bit of tidious and carefull array manipulations unfortunately."
   ]
  },
  {
   "cell_type": "code",
   "execution_count": 20,
   "metadata": {},
   "outputs": [],
   "source": [
    "def split_rect (rectangle, coordinates): #this works well\n",
    "    nodes = [coordinates[rectangle[1]-1],coordinates[rectangle[2]-1]\n",
    "             ,coordinates[rectangle[3]-1],coordinates[rectangle[4]-1]]\n",
    "    midpoints=[]\n",
    "    new=[]\n",
    "    for i in range(4):\n",
    "        mid= gcent([nodes[(i)%4], nodes[(i+1)%4] ]) \n",
    "        temp = [len(coordinates)+1, mid[0], mid[1]]\n",
    "        already=0\n",
    "        for j in range(len(coordinates)): #check this midpoint isnt already a node\n",
    "            test=coordinates[j]\n",
    "            if test[1]==temp[1]:\n",
    "                if test[2]==temp[2]: #if it is already a node\n",
    "                    already=1\n",
    "                    temp=test #will use it to build new rectangles\n",
    "        if already ==0:\n",
    "            coordinates.append(temp)   \n",
    "        midpoints.append(temp[0])\n",
    "    coordinates.append([len(coordinates)+1,gcent(nodes)[0],gcent(nodes)[1]])\n",
    "    midpoints.append(len(coordinates))\n",
    "    for i in range(4):\n",
    "        new_rect = [ i, nodes[i][0], midpoints[i], midpoints[4], midpoints[(i-1)%4]  ]\n",
    "        new.append(new_rect)\n",
    "    return [new,coordinates]"
   ]
  },
  {
   "cell_type": "code",
   "execution_count": 21,
   "metadata": {},
   "outputs": [],
   "source": [
    "def split_tri(triangle, coordinates): #this is GOOD\n",
    "    nodes=[coordinates[triangle[1]-1],coordinates[triangle[2]-1],coordinates[triangle[3]-1]]\n",
    "    midpoints=[]\n",
    "    new=[]\n",
    "    for i in range(3):\n",
    "        mid = gcent([nodes[(i)%3],nodes[(i+1)%3]])  \n",
    "        temp=[len(coordinates)+1, mid[0], mid[1]]\n",
    "        already=0\n",
    "        for j in range(len(coordinates)): #check this midpoint isnt already a node\n",
    "            test=coordinates[j]\n",
    "            if test[1]==temp[1]:\n",
    "                if test[2]==temp[2]: #if it is already a node\n",
    "                    already=1\n",
    "                    temp=test #will use it to build new triangles   \n",
    "        if already ==0:\n",
    "            coordinates.append(temp)\n",
    "        midpoints.append(temp[0])\n",
    "    for i in range(4):\n",
    "        if i==3:\n",
    "            new_tri=[i, midpoints[0],midpoints[1],midpoints[2]]\n",
    "        else:\n",
    "            new_tri=[i, nodes[i][0], midpoints[i], midpoints[(i-1)%3]]     \n",
    "        new.append(new_tri)\n",
    "    return [new,coordinates]"
   ]
  },
  {
   "cell_type": "code",
   "execution_count": 22,
   "metadata": {},
   "outputs": [],
   "source": [
    "def split_shapes (triangles, rectangles, coordinates):\n",
    "    #takes in the shapes lists and the list of coordinates\n",
    "    #returns the lists of refined rectangles and triangles as well as an updated\n",
    "    #list of coordinates \n",
    "    new_tri=[]\n",
    "    new_rect=[]\n",
    "    for i in range(len(triangles)):\n",
    "        couple=split_tri(triangles[i], coordinates) # [0] new triangles, [1] updated coord.\n",
    "        for j in range(len(couple[0])):\n",
    "            new_tri.append(couple[0][j])\n",
    "        coordinates=couple[1]\n",
    "    for i in range(len(rectangles)):\n",
    "        couple=split_rect(rectangles[i], coordinates)\n",
    "        for j in range(len(couple[0])):\n",
    "            new_rect.append(couple[0][j])\n",
    "        coordinates=couple[1]\n",
    "    new_tri=add_index(new_tri)\n",
    "    new_rect=add_index(new_rect)\n",
    "    return [new_tri,new_rect, coordinates]"
   ]
  },
  {
   "cell_type": "markdown",
   "metadata": {},
   "source": [
    "Note : So far I've successfully fixed both splitting functions. Now I need to find a way to make the boundary refinement function work. Originally I was considering a fixed mesh so I was using the geometry of the corner to evaluate wether or not a point was on the dirichlet boundary or not. So is no longer possible since I'm customising the angle of that corner. However since we retain some amount of symetry I can possibly adjust the previous functions. Another approach would be to write a new function that evaluates wether or not the edge is part of an egde in the previous boundary. That is more straightforward and I'm wondering if the implementation has any tricks to it."
   ]
  },
  {
   "cell_type": "code",
   "execution_count": 23,
   "metadata": {},
   "outputs": [],
   "source": [
    "def refine_boundary (boundary, edges, coordinates):\n",
    "    #takes in a list of refined edges and a collection of bondary edges\n",
    "    # collects the refined edges that are part of the boundary\n",
    "    new=[]\n",
    "    for i in range(len(edges)):\n",
    "        test=edges[i]\n",
    "        for j in range(len(boundary)):\n",
    "            g=gcent([coordinates[boundary[j][0]-1],coordinates[boundary[j][1]-1]])\n",
    "            temp_1=boundary[j][0]\n",
    "            temp_2=boundary[j][1]\n",
    "            if test[1]==temp_1:\n",
    "                if [coordinates[test[0]-1][1],coordinates[test[0]-1][2]]==g:\n",
    "                    new.append(test)\n",
    "            if test[1]==temp_2:\n",
    "                if [coordinates[test[0]-1][1],coordinates[test[0]-1][2]]==g:\n",
    "                    new.append(test)\n",
    "            if test[0]==temp_1:\n",
    "                if [coordinates[test[1]-1][1],coordinates[test[1]-1][2]]==g:\n",
    "                    new.append(test)\n",
    "            if test[0]==temp_2:\n",
    "                if [coordinates[test[1]-1][1],coordinates[test[1]-1][2]]==g:\n",
    "                    new.append(test)\n",
    "    return new"
   ]
  },
  {
   "cell_type": "code",
   "execution_count": 24,
   "metadata": {},
   "outputs": [],
   "source": [
    "def mesh_refinement (coordinates, triangles, rectangles, prev_boundary): #Im fairly convinced this works\n",
    "    new_shapes=split_shapes (triangles, rectangles, coordinates)\n",
    "    edges=generate_edges(new_shapes[0]+new_shapes[1]) #this is very good. \n",
    "    new_n=refine_boundary(prev_boundary[0], edges, new_shapes[2])\n",
    "    new_d=refine_boundary(prev_boundary[1], edges, new_shapes[2])\n",
    "    return [new_shapes[2], new_shapes[0], new_shapes[1], edges, new_n, new_d]"
   ]
  },
  {
   "cell_type": "code",
   "execution_count": 25,
   "metadata": {},
   "outputs": [],
   "source": [
    "dimension=3.0 #float, length of the square that contains the mesh\n",
    "corner=0 #acts as boolean\n",
    "angle=45. #float, angle of the corner in degrees between 0 and 180.\n",
    "            # note that if angle is between 71 and 109 it'll be interpreted as a right angle\n",
    "#####\n",
    "mesh=generate_mesh(dimension, corner, angle)\n",
    "mesh=mesh_refinement(mesh[0], mesh[1], mesh[2],[mesh[4],mesh[5]])"
   ]
  },
  {
   "cell_type": "markdown",
   "metadata": {},
   "source": [
    "UPDATE : It finally works. I'm contempt."
   ]
  },
  {
   "cell_type": "markdown",
   "metadata": {},
   "source": [
    "I'm debating wether I should create a new notebook to fix the PDE solver now or if I should just keep going on here. I don't know if I'll be able to call functions from another notebook once I push them on GitHub, that is my main concern. I guess I'll just have two notebooks for now and I can always manage this later. EDIT : Nevermind it's not working out I'm going to keep writting in here."
   ]
  },
  {
   "cell_type": "markdown",
   "metadata": {},
   "source": [
    "PDE Solver :"
   ]
  },
  {
   "cell_type": "code",
   "execution_count": 26,
   "metadata": {},
   "outputs": [],
   "source": [
    "def f(x):\n",
    "    #Volume Force\n",
    "    #takes in a point (x, y)\n",
    "    #returns f(x,y) in R\n",
    "    f=(1/32)*(3*x[0]*x[1]*(4-x[1])-x[0]*x[0]*x[0])\n",
    "    #f=1\n",
    "    if Q5 == 1 :\n",
    "        f=1\n",
    "    return f"
   ]
  },
  {
   "cell_type": "code",
   "execution_count": 27,
   "metadata": {},
   "outputs": [],
   "source": [
    "def g(x):\n",
    "    #Neumann Boundary Condition\n",
    "    #takes in a point (x,y)\n",
    "    #returns g(x,y) in R\n",
    "    g=-7.\n",
    "    print (\"I shouldn't be here\")\n",
    "    if x[1]==0.0: #along x-axis\n",
    "        g=0.\n",
    "    else :\n",
    "        if x[0] == 4.0:# along x=4.0\n",
    "            g=2*(2-x[1])\n",
    "        else :\n",
    "                print (\"error in Neumann g\")\n",
    "    return g"
   ]
  },
  {
   "cell_type": "code",
   "execution_count": 28,
   "metadata": {},
   "outputs": [],
   "source": [
    "def h(x):\n",
    "    #Dirichlet Boundary Condition\n",
    "    #takes in a point (x,y)\n",
    "    #returns h(x,y) in R\n",
    "    h=-7.\n",
    "    if x[0]==0.0 : #along y axis\n",
    "        h=0.\n",
    "    else :\n",
    "        if x[1]==dimension: #along y=dimension\n",
    "            h=0.\n",
    "        else :\n",
    "            #print (\"error in Dirichlet h\")\n",
    "            if x[1]==0.0: #along x-axis\n",
    "                h=0.\n",
    "            else :\n",
    "                if x[0] == dimension:# along x=dimension\n",
    "                    h=x[1]*(4-x[1])\n",
    "                else :\n",
    "                    if corner ==1 :\n",
    "                        if x[0]==3.:\n",
    "                            if x[1] < 1.05:\n",
    "                                h=27/64*x[1]*(4-x[1])\n",
    "                            else:\n",
    "                                print (\"error in Dirichlet h\")\n",
    "                        else:\n",
    "                            if x[1]==1.:\n",
    "                                if x[0]>2.99:\n",
    "                                    h=3/64*x[0]*x[0]*x[0]\n",
    "                                else :\n",
    "                                    print (\"error in Dirichlet h\")\n",
    "                            else:        \n",
    "                                print (\"error in Dirichlet h\")\n",
    "                    else:\n",
    "                        print (\"error in Dirichlet h\")\n",
    "            \n",
    "    return h"
   ]
  },
  {
   "cell_type": "markdown",
   "metadata": {},
   "source": [
    "The 3 previous functions are problem-based and can be modified easily to solve any combinations of problems."
   ]
  },
  {
   "cell_type": "markdown",
   "metadata": {},
   "source": [
    "Functions To Assemble Stiffness Matrix"
   ]
  },
  {
   "cell_type": "code",
   "execution_count": 29,
   "metadata": {},
   "outputs": [],
   "source": [
    "def orient (shape, grid): #I was getting an extra minus sign without this\n",
    "    #takes in a shape array\n",
    "    #returns the correctly oriented array\n",
    "    k=1\n",
    "    somme=grid[shape[1]-1][1]+grid[shape[1]-1][2]\n",
    "    for i in range(len(shape)-2):\n",
    "        temp=shape[i+2]\n",
    "        t_sum=grid[temp-1][1]+grid[temp-1][2]\n",
    "        if t_sum < somme : #finds the node in the shape\n",
    "            somme=t_sum     # closest to (0,0)\n",
    "            k=i+2\n",
    "    new=[shape[0]]\n",
    "    for i in range(len(shape)-1):\n",
    "        new.append(shape[1+(k+i-1)%(len(shape)-1)])\n",
    "    return new"
   ]
  },
  {
   "cell_type": "code",
   "execution_count": 30,
   "metadata": {},
   "outputs": [],
   "source": [
    "def area(shape, grid):\n",
    "    #takes in a list of nodes and the list of associated coordinates\n",
    "    #returns (the area of the shape) actually returns the matrix\n",
    "    #this way I can re-use the function\n",
    "    matrix=[[grid[shape[2]-1][1]-grid[shape[1]-1][1],grid[shape[len(shape)-1]-1][1]-grid[shape[1]-1][1]],\n",
    "            [grid[shape[2]-1][2]-grid[shape[1]-1][2],grid[shape[len(shape)-1]-1][2]-grid[shape[1]-1][2]]]\n",
    "    return matrix            \n"
   ]
  },
  {
   "cell_type": "code",
   "execution_count": 31,
   "metadata": {},
   "outputs": [],
   "source": [
    "def compute_G (triangle, grid):\n",
    "    #takes in a list of nodes for a triangle, and the list of coordinates\n",
    "    #returns a matrix G= [[1,1,1], [x_1,x_2,x_3], [y_1, y_2, y_3]] . [[0,0],[1,0],[0,1]]\n",
    "    G=[[1,1,1],\n",
    "       [grid[triangle[1]-1][1], grid[triangle[2]-1][1], grid[triangle[3]-1][1]],\n",
    "       [grid[triangle[1]-1][2], grid[triangle[2]-1][2], grid[triangle[3]-1][2]]]\n",
    "    G=np.dot(np.linalg.inv(G), [[0,0],[1,0],[0,1]] )\n",
    "    return G\n",
    "    "
   ]
  },
  {
   "cell_type": "code",
   "execution_count": 32,
   "metadata": {},
   "outputs": [],
   "source": [
    "def add_to_stiffness(A, M, shape):\n",
    "    #takes in A, a smaller square matrix M and an indexed list of nodes\n",
    "    #returns A with entries at (nodes[i],nodes[j]) incremented by values in <\n",
    "    for i in range(len(shape)-1):\n",
    "        for j in range(len(shape)-1):\n",
    "            A[shape[i+1]-1][shape[j+1]-1]+=M[i][j]\n",
    "    return A"
   ]
  },
  {
   "cell_type": "code",
   "execution_count": 33,
   "metadata": {},
   "outputs": [],
   "source": [
    "def stiff3 (triangle, grid):\n",
    "    #takes in the nodes of a triangle and the list of coordinates of nodes\n",
    "    #returns a 3x3 stiffness matrix for that triangle\n",
    "    matrix=area(orient(triangle, grid),grid)\n",
    "    G=compute_G(triangle,grid)\n",
    "    return abs(np.linalg.det(matrix))/2*(np.dot(G,np.transpose(G)))"
   ]
  },
  {
   "cell_type": "code",
   "execution_count": 34,
   "metadata": {},
   "outputs": [],
   "source": [
    "def stiff4 (rectangle, grid) :\n",
    "    #takes in the nodes of a rectangle and the list of coordinates of nodes\n",
    "    #returns a 3x3 stiffness matrix for that rectangle\n",
    "    matrix=area(orient(rectangle, grid), grid)\n",
    "    B=np.linalg.inv(np.transpose(matrix)*matrix)\n",
    "    C_1= B[0][0]*np.array([[2,-2],[-2,2]])+B[0][1]*np.array([[3,0],[0,-3]])+B[1][1]*np.array([[2,1],[1,2]])\n",
    "    C_2= B[0][0]*np.array([[-1,1],[1,-1]])+B[0][1]*np.array([[-3,0],[0,3]])+B[1][1]*np.array([[-1,-2],[-2,-1]])\n",
    "    M= abs(np.linalg.det(matrix))/6* np.block([ [C_1,C_2], [C_2, C_1] ])\n",
    "    return M\n"
   ]
  },
  {
   "cell_type": "code",
   "execution_count": 35,
   "metadata": {},
   "outputs": [],
   "source": [
    "def generate_stiffness (grid, triangles, rectangles):\n",
    "    #takes in grid, triangles, rectangles\n",
    "    #returns a len(grid)xlen(grid) stiffness matrix\n",
    "    A=[[0. for i in range(len(grid))] for j in range(len(grid))]#initialising\n",
    "    for i in range(len(triangles)):\n",
    "        M=stiff3(triangles[i], grid)\n",
    "        A=add_to_stiffness(A,M,triangles[i])\n",
    "    for i in range(len(rectangles)):\n",
    "        M=stiff4(rectangles[i], grid)\n",
    "        A=add_to_stiffness(A,M,rectangles[i])\n",
    "    return A"
   ]
  },
  {
   "cell_type": "markdown",
   "metadata": {},
   "source": [
    "So far I've needed 6 functions to generate the left hand side of the PDE, I'm pretty happy with how the stiffness matrix part of the code turned out. It's definitely an upgrade from my previous version, in my opinion. EDIT : 7 functions, I noticed that not orienting my square properly was generating a bug further down. Fixed it !"
   ]
  },
  {
   "cell_type": "markdown",
   "metadata": {},
   "source": [
    "Functions that compute the right hand side vector b"
   ]
  },
  {
   "cell_type": "code",
   "execution_count": 36,
   "metadata": {},
   "outputs": [],
   "source": [
    "def add_to_rhs (b, value, shape):\n",
    "    #takes in b, a value to be added, and the indexes of which b_j to increment\n",
    "    #returns updated b\n",
    "    for i in range(len(shape)-1):\n",
    "        b[shape[i+1]-1]+=value\n",
    "    return b"
   ]
  },
  {
   "cell_type": "code",
   "execution_count": 37,
   "metadata": {},
   "outputs": [],
   "source": [
    "def VolumeForces (b,shapes, grid):\n",
    "    #takes in the combined list of rectangles and triangles + coordinates\n",
    "    #returns the updated right hand side\n",
    "    for i in range(len(shapes)):\n",
    "        T=abs(np.linalg.det(area(shapes[i], grid)))\n",
    "        nodes=[]\n",
    "        for j in range(len(shapes[i])-1):\n",
    "            nodes.append(grid[shapes[i][j+1]-1])\n",
    "        f_s=f(gcent(nodes))\n",
    "        chi=(4-len(shapes[i])+1)*6+(len(shapes[i])-1-3)*4\n",
    "        b=add_to_rhs(b,(1/chi)*T*f_s, shapes[i])\n",
    "    return b"
   ]
  },
  {
   "cell_type": "code",
   "execution_count": 38,
   "metadata": {},
   "outputs": [],
   "source": [
    "def length (edge, grid):\n",
    "    #takes in an edge (node 1, node 2) and the list of coordinates\n",
    "    #returns the length of the edge\n",
    "    a=[grid[edge[0]-1][1], grid[edge[0]-1][2]]\n",
    "    b=[grid[edge[1]-1][1], grid[edge[1]-1][2]]\n",
    "    l=math.sqrt( (a[0]-b[0])*(a[0]-b[0]) +(a[1]-b[1])*(a[1]-b[1]) )\n",
    "    return l"
   ]
  },
  {
   "cell_type": "code",
   "execution_count": 39,
   "metadata": {},
   "outputs": [],
   "source": [
    "def NeumannBC (b, neumann, grid):\n",
    "    #takes in the list of edges on Neumann Bdry\n",
    "    #returns updated rhs vector\n",
    "    for i in range(len(neumann)):\n",
    "        g_m=g(gcent([grid[neumann[i][0]-1], grid[neumann[i][1]-1]]))\n",
    "        l=length(neumann[i], grid)\n",
    "        b=add_to_rhs(b, (l/2)*g_m, [i]+neumann[i])\n",
    "    return b"
   ]
  },
  {
   "cell_type": "code",
   "execution_count": 40,
   "metadata": {},
   "outputs": [],
   "source": [
    "def generate_rhs (grid, shapes, neumann):\n",
    "    #takes in the combined list of rectangles and triangles plus the neumann bdry\n",
    "    #returns a 1x len(grid) vector for stress+volume forces\n",
    "    b= [0. for i in range(len(grid))]\n",
    "    b=VolumeForces (b, shapes, grid)\n",
    "    b=NeumannBC (b, neumann, grid)\n",
    "    return b"
   ]
  },
  {
   "cell_type": "markdown",
   "metadata": {},
   "source": [
    "I also needed 6 functions for the right hand side. Now I have to tackle the tricky part where I need to re-arrange A and b so that the nodes are split between free first and boundary nodes last. I think that's where I ran into troubles last time. I first tried to see if I could directly compute A and b with a reorganised grid but I would need to re-index all my shapes first and it just seem like a lot of work. Should I try to implement that in the mesh generation part of the code instead? That's a thought. But a lot of my code relies on the way my coordinates are indexed so I think that would create a lot of unwanted effects."
   ]
  },
  {
   "cell_type": "code",
   "execution_count": 41,
   "metadata": {},
   "outputs": [],
   "source": [
    "def compute_Ud (grid, notfixed):\n",
    "    #takes in the list of coordinates and the list of dirichlet nodes\n",
    "    #returns the values at those nodes\n",
    "    Ud=[]\n",
    "    for i in range(len(notfixed)):\n",
    "        value=h([grid[notfixed[i]-1][1], grid[notfixed[i]-1][2]])\n",
    "        Ud.append(value)\n",
    "    return Ud"
   ]
  },
  {
   "cell_type": "markdown",
   "metadata": {},
   "source": [
    "I think now what I really need is to re-index all my mesh. I'll try and see if it's doable and if that solves my problems. EDIT : The following 5 functions take care of that. It wasn't hard to implement but I'm still not sure that it'll fix my problems."
   ]
  },
  {
   "cell_type": "markdown",
   "metadata": {},
   "source": [
    "Functions That Re-Order the Mesh"
   ]
  },
  {
   "cell_type": "code",
   "execution_count": 42,
   "metadata": {},
   "outputs": [],
   "source": [
    "def find (test, ogrid):\n",
    "    #takes in an integer to find in ogrid\n",
    "    #returns the index of that integers in ogrid\n",
    "    k=-1\n",
    "    for i in range(len(ogrid)):\n",
    "        temp=ogrid[i][0]\n",
    "        if temp ==test:\n",
    "            k=i\n",
    "    return k"
   ]
  },
  {
   "cell_type": "code",
   "execution_count": 43,
   "metadata": {},
   "outputs": [],
   "source": [
    "def update_list (liste, ogrid):\n",
    "    #takes in a list from the original mesh and the organised grid\n",
    "    #returns the updated mesh element\n",
    "    new_liste=[]\n",
    "    for i in range(len (liste)):\n",
    "        element=liste[i]\n",
    "        if len(element)==2:\n",
    "            new=[]\n",
    "        else :\n",
    "            new=[element[0]]\n",
    "        for j in range(len(element)-len(new)):\n",
    "            k=find (element[j+len(new)-j], ogrid)\n",
    "            new.append(k+1)\n",
    "        new_liste.append(new)\n",
    "    return new_liste"
   ]
  },
  {
   "cell_type": "code",
   "execution_count": 44,
   "metadata": {},
   "outputs": [],
   "source": [
    "def generate_ogrid (grid, dirichlet, ordered):\n",
    "    ogrid=[]\n",
    "    for i in range (len(ordered)):\n",
    "        ogrid.append(grid[ordered[i]-1])\n",
    "    return ogrid"
   ]
  },
  {
   "cell_type": "code",
   "execution_count": 45,
   "metadata": {},
   "outputs": [],
   "source": [
    "def generate_free(boundary, grid):\n",
    "    #takes in a list of boundary edges and a list of nodes\n",
    "    #returns two lists, one with the free nodes, one with the bdry nodes\n",
    "    free=[]\n",
    "    notfree=[]\n",
    "    for i in range(len(grid)):\n",
    "        test=grid[i][0]#extract node\n",
    "        append=1\n",
    "        for j in range(len(boundary)):\n",
    "            for k in range(2):\n",
    "                temp=boundary[j][k]\n",
    "                if temp==test:#if that node shows up in boundary\n",
    "                    append=0\n",
    "        if append ==1:\n",
    "            free.append(test)\n",
    "        else :\n",
    "            notfree.append(test)\n",
    "    return [free, notfree]"
   ]
  },
  {
   "cell_type": "code",
   "execution_count": 46,
   "metadata": {},
   "outputs": [],
   "source": [
    "def update_mesh (mesh, organised):\n",
    "    ogrid=generate_ogrid (mesh[0], mesh[5], organised[0]+organised[1] )\n",
    "    omesh=[ogrid]\n",
    "    for i in range (len(mesh)-1):\n",
    "        omesh.append(update_list (mesh[i+1], ogrid))\n",
    "    return omesh"
   ]
  },
  {
   "cell_type": "markdown",
   "metadata": {},
   "source": [
    "The previous manipulation seemed to work so now I just need to extract the block matrices and solve for the values at the free nodes! Quite excited to see if it works."
   ]
  },
  {
   "cell_type": "markdown",
   "metadata": {},
   "source": [
    "Functions that Solve the PDE"
   ]
  },
  {
   "cell_type": "code",
   "execution_count": 47,
   "metadata": {},
   "outputs": [],
   "source": [
    "def extract (A,b,Ud):\n",
    "    #takes in the stiffness matrix, the RHS and the values at dirichlet nodes\n",
    "    #returns relevant block matrices\n",
    "    A11=[[]for i in range(len(A)-len(Ud))]\n",
    "    for i in range(len(A)-len(Ud)):\n",
    "        for j in range(len(A)-len(Ud)):\n",
    "            A11[i].append(A[i][j])\n",
    "    A12= [[]for i in range(len(A)-len(Ud))]\n",
    "    for i in range(len(A)-len(Ud)):\n",
    "        for j in range(len(Ud)):\n",
    "            A12[i].append(A[i][len(A)-len(Ud)+j])\n",
    "    bfree=[]\n",
    "    for i in range(len(A)-len(Ud)):\n",
    "        bfree.append(b[i])\n",
    "    return [A11, A12, bfree]"
   ]
  },
  {
   "cell_type": "code",
   "execution_count": 48,
   "metadata": {},
   "outputs": [],
   "source": [
    "def Free_Solve (A, b, Ud):\n",
    "    #takes in the stiffness matrix, the RHS and the values at dirichlet nodes\n",
    "    #returns value of the PDE on free nodes\n",
    "    arr = extract (A,b,Ud)\n",
    "    U=np.dot(np.linalg.inv(arr[0]), arr[2]-np.dot(arr[1], Ud))\n",
    "    return U"
   ]
  },
  {
   "cell_type": "code",
   "execution_count": 49,
   "metadata": {},
   "outputs": [],
   "source": [
    "def PDE_Solve (mesh):\n",
    "    #takes in [coordinates, triangles, rectangles, edges, neumann, dirichlet]\n",
    "    #returns values at free nodes given \\nabla(u)= f and g on boundary\n",
    "    organised=generate_free(mesh[5], mesh[0])\n",
    "    omesh=update_mesh (mesh, organised)\n",
    "    A=generate_stiffness(omesh[0] ,omesh[1] ,omesh[2])\n",
    "    b= generate_rhs (omesh[0], omesh[1]+omesh[2], omesh[4])\n",
    "    Ud=compute_Ud (mesh[0], organised[1])\n",
    "    U=Free_Solve (A, b, Ud)                \n",
    "    return [organised[0], U]"
   ]
  },
  {
   "cell_type": "code",
   "execution_count": 50,
   "metadata": {},
   "outputs": [
    {
     "name": "stdout",
     "output_type": "stream",
     "text": [
      "I shouldn't be here\n",
      "I shouldn't be here\n",
      "I shouldn't be here\n",
      "I shouldn't be here\n",
      "I shouldn't be here\n",
      "I shouldn't be here\n",
      "I shouldn't be here\n",
      "I shouldn't be here\n"
     ]
    }
   ],
   "source": [
    "dimension=4.0 #float, length of the square that contains the mesh\n",
    "corner=0 #acts as boolean\n",
    "angle=110. #float, angle of the corner in degrees between 0 and 180.\n",
    "            # note that if angle is between 71 and 109 it'll be interpreted as a right angle\n",
    "#####\n",
    "mesh=generate_mesh(dimension, corner, angle)\n",
    "solution=PDE_Solve(mesh)\n",
    "#print (mesh[0]) #grid\n",
    "#print (\"---\")\n",
    "#print (mesh[1]) #triangles\n",
    "#print (\"---\")\n",
    "#print (mesh[2]) #rectangles\n",
    "#print (\"---\")\n",
    "#print (mesh[3]) #edges\n",
    "#print (\"---\")\n",
    "#print (mesh[4]) #neumann\n",
    "#print (\"---\")\n",
    "#print (mesh[5]) #dirichlet\n",
    "#print (\"---\")\n",
    "#print (\"free nodes :\",solution[0])\n",
    "#print (\"---\")\n",
    "#print (\"Values :\", solution [1])\n",
    "#print (\"---\")"
   ]
  },
  {
   "cell_type": "markdown",
   "metadata": {},
   "source": [
    "So this is still bugged, I'm not getting a refinement of the values when I refine the mesh. I don't know what's wrong. I'm quite frustrated. Actually I don't think it is \"very\" wrong but it's just hard to see since I haven't invested time into making the solution look nice. I just don't understand how the values are getting bigger. It's like I'm adding more things and they are not getting smaller with the refinement. "
   ]
  },
  {
   "cell_type": "markdown",
   "metadata": {},
   "source": [
    "EDIT : So I've just written the orient() function and it's actually giving me hope. We note that now the values from the first few free nodes are still close to one another after mesh refinement. Could it be possible that I have successfully coded this ?"
   ]
  },
  {
   "cell_type": "markdown",
   "metadata": {},
   "source": [
    "-------------------------------------------"
   ]
  },
  {
   "cell_type": "markdown",
   "metadata": {},
   "source": [
    "Question 1 : Pick a convex domain \\Omega and a smooth function u, compute f=-\\nabla u in \\Omega. Then solve the Poisson problem with the computed f and with g=u on d\\Omega, on several grid with decreasing mesh sizes."
   ]
  },
  {
   "cell_type": "markdown",
   "metadata": {},
   "source": [
    "I chose u(x,y)= (x^{3}/32 )*y(4-y). I computed f and g and implemented them in the previous cells, see the beginning of the PDE Solver block. I'm solving on a 4x4 square mesh."
   ]
  },
  {
   "cell_type": "markdown",
   "metadata": {},
   "source": [
    "I wrote a couple functions that analyse the output so that I have an idea of what going on."
   ]
  },
  {
   "cell_type": "code",
   "execution_count": 51,
   "metadata": {},
   "outputs": [],
   "source": [
    "def u (x):\n",
    "    #takes in a point (x,y)\n",
    "    #returns the value of u(x,y) in R\n",
    "    u=x[1]*(4-x[1])*x[0]*x[0]*x[0]*(1/64)\n",
    "    return u"
   ]
  },
  {
   "cell_type": "code",
   "execution_count": 52,
   "metadata": {},
   "outputs": [],
   "source": [
    "def compute_actual (free, grid):\n",
    "    #takes in the list of free nodes and coordinates\n",
    "    #returns the actual value of the solution at these nodes\n",
    "    actual=[]\n",
    "    for i in range(len(free)):\n",
    "        value=u([grid[free[i]-1][1],grid[free[i]-1][2]])\n",
    "        actual.append(value)\n",
    "    return actual"
   ]
  },
  {
   "cell_type": "code",
   "execution_count": 53,
   "metadata": {},
   "outputs": [],
   "source": [
    "def compute_inf_err (experimental, actual):\n",
    "    #takes in 2 arrays of solution\n",
    "    #computes the point by point difference\n",
    "    error=[]\n",
    "    for i in range(len(actual)):\n",
    "        error.append(abs(experimental[i]-actual[i]))\n",
    "    return error"
   ]
  },
  {
   "cell_type": "code",
   "execution_count": 54,
   "metadata": {},
   "outputs": [],
   "source": [
    "def error_average (error):\n",
    "    #takes in a list of point by point error estimates\n",
    "    #return the average value\n",
    "    average=0.0\n",
    "    for i in range(len(error)):\n",
    "        average+=error[i]\n",
    "    return average/len(error)"
   ]
  },
  {
   "cell_type": "code",
   "execution_count": 55,
   "metadata": {},
   "outputs": [],
   "source": [
    "def order_u_values (nodes, values):\n",
    "    #takes in a shuffled list of nodes andsimilarly shuffled list of values\n",
    "    #returns the ordered list of values\n",
    "    u_array=[0.0 for i in range(len(nodes))]\n",
    "    for i in range(len(u_array)):\n",
    "        k=nodes[i]\n",
    "        u_array[k-1]=values[i]\n",
    "    return u_array"
   ]
  },
  {
   "cell_type": "markdown",
   "metadata": {},
   "source": [
    "The particulat example that I chose works best without neumann boundary conditions. Thus I made slight changes to my PDE Solver to make that work."
   ]
  },
  {
   "cell_type": "code",
   "execution_count": 56,
   "metadata": {},
   "outputs": [],
   "source": [
    "def PDE_Solve_no_neumann (mesh):\n",
    "    #takes in [coordinates, triangles, rectangles, edges, neumann, dirichlet]\n",
    "    #returns values at free nodes given \\nabla(u)= f and g on boundary\n",
    "    organised=generate_free(mesh[5]+mesh[4], mesh[0])\n",
    "    omesh=update_mesh (mesh, organised)\n",
    "    A=generate_stiffness(omesh[0] ,omesh[1] ,omesh[2])\n",
    "    b=generate_rhs(omesh[0], omesh[1]+omesh[2], [])\n",
    "    Ud=compute_Ud (mesh[0], organised[1])\n",
    "    U=Free_Solve (A, b, Ud)                \n",
    "    return [organised[0], U, Ud, organised[1]]"
   ]
  },
  {
   "cell_type": "code",
   "execution_count": 57,
   "metadata": {},
   "outputs": [
    {
     "name": "stdout",
     "output_type": "stream",
     "text": [
      "---\n",
      "on average : 0.29270833333333307\n",
      "---\n",
      "on average : 0.27703854335861644\n",
      "---\n",
      "on average : 0.25256566005298325\n",
      "---\n"
     ]
    }
   ],
   "source": [
    "dimension=4.0 #float, length of the square that contains the mesh\n",
    "corner=0 #acts as boolean\n",
    "angle=90. #float, angle of the corner in degrees between 0 and 180.\n",
    "            # note that if angle is between 71 and 109 it'll be interpreted as a right angle\n",
    "#####\n",
    "repeat =3 # we will refine twice\n",
    "#####\n",
    "mesh=generate_mesh(dimension, corner, angle)\n",
    "for i in range(repeat):\n",
    "    solution=PDE_Solve_no_neumann(mesh)\n",
    "    #\n",
    "    actual=compute_actual (solution[0], mesh[0])\n",
    "    error=compute_inf_err (solution [1], actual)\n",
    "    av=error_average (error)\n",
    "    print (\"---\")\n",
    "    print (\"on average :\", av)\n",
    "    #u_array=order_u_values (solution[0]+solution[3], solution[1].tolist()+solution[2])\n",
    "    #print (\"---\")\n",
    "    #print (\"list of point by point solution :\", u_array)\n",
    "    #\n",
    "    mesh=mesh_refinement(mesh[0], mesh[1], mesh[2],[mesh[4],mesh[5]])\n",
    "print (\"---\")"
   ]
  },
  {
   "cell_type": "markdown",
   "metadata": {},
   "source": [
    "Question 2 : Plot the H^{1}-error of the finite element solution against the meshsize h on a logarthmic scale, and estimate the convergence rate \\alpha in error ~ h^{\\alpha} from the graph. Is it consistent with theory ?"
   ]
  },
  {
   "cell_type": "markdown",
   "metadata": {},
   "source": [
    "To compute the H1 error I first need to compute linear interpolations between each nodes (:=p), then take a derivative (:=p') , and finally take the L2 norm of |u\"-p'|. Since I'll have one interpolant per edge the integral is actually going to be a sum of integrals, for each edge."
   ]
  },
  {
   "cell_type": "code",
   "execution_count": 58,
   "metadata": {},
   "outputs": [],
   "source": [
    "def du (x):\n",
    "    #takes in a point (x,y)\n",
    "    #returns du(x,y), du the derivative of u du =u_x+u_y\n",
    "    value=3/64*x[1]*(4-x[1])*x[0]*x[0]+x[0]*x[0]*x[0]*(1/64)*(4-2*x[1])\n",
    "    return value"
   ]
  },
  {
   "cell_type": "code",
   "execution_count": 59,
   "metadata": {},
   "outputs": [],
   "source": [
    "def orient_edge (edge, grid):\n",
    "    #takes in an edge array\n",
    "    #returns the correctly oriented array\n",
    "    k=0\n",
    "    somme=grid[edge[0]-1][1]+grid[edge[0]-1][2]\n",
    "    temp=grid[edge[1]-1][1]+grid[edge[1]-1][2]\n",
    "    if temp < somme : #finds the node in the shape\n",
    "        somme=temp     # closest to (0,0)\n",
    "        k=1\n",
    "    new=[]\n",
    "    for i in range(len(edge)):\n",
    "        new.append(edge[(k+i)%2])\n",
    "    return new"
   ]
  },
  {
   "cell_type": "markdown",
   "metadata": {},
   "source": [
    "Ultimately I want the next function to be adaptable for non square mesh. I'm storing the result as [m, l, a] where p = mx +ly +a. This is where I'm having trouble I think. Somehow along the right side of the rectangle the derivative of the solution doesn't match the actual value. Is there a bug in my PDE Solver? I couldn't find anything so I think I'm just not processing my solution correctly."
   ]
  },
  {
   "cell_type": "code",
   "execution_count": 60,
   "metadata": {},
   "outputs": [],
   "source": [
    "def square_mesh_interp (edge, grid, u_array):\n",
    "    #takes in an edge that is vertical or horizontal\n",
    "    #returns the line equation in the format [m, l, a]\n",
    "    k=1 #by default assume horizontal\n",
    "    if grid[edge[0]-1][1]-grid[edge[1]-1][1] ==0: #check if vertical\n",
    "        k=2\n",
    "    array=[0.,0.,0.]\n",
    "    array[k-1]=(u_array[edge[1]-1]-u_array[edge[0]-1])/(grid[edge[1]-1][k]-grid[edge[0]-1][k])\n",
    "    array[2]=u_array[edge[1]-1]-(array[k-1]*grid[edge[1]-1][k])\n",
    "    return array\n",
    "    "
   ]
  },
  {
   "cell_type": "code",
   "execution_count": 61,
   "metadata": {},
   "outputs": [],
   "source": [
    "def generate_interp (edges, grid, u_array):\n",
    "    #takes in the list of all edges in the mesh\n",
    "    #returns the list of coeff of linear interpolants for each edge\n",
    "    p_list=[]\n",
    "    for i in range(len(edges)):\n",
    "        temp=[i+1]+square_mesh_interp (edges[i], grid, u_array)\n",
    "        p_list.append(temp)\n",
    "    return p_list"
   ]
  },
  {
   "cell_type": "code",
   "execution_count": 62,
   "metadata": {},
   "outputs": [],
   "source": [
    "def generate_dp (p_list):\n",
    "    #takes in the list of arrays of the form [k, m, l, a]\n",
    "    #returns [k, m, l] the tangents\n",
    "    dp_list=[]\n",
    "    for i in range(len(p_list)):\n",
    "        dp_list.append([p_list[i][0], p_list[i][1], p_list[i][2]])\n",
    "    return dp_list"
   ]
  },
  {
   "cell_type": "code",
   "execution_count": 63,
   "metadata": {},
   "outputs": [],
   "source": [
    "def dp (a, x):\n",
    "    #takes in coefficient a[] and a point x[] in R^{2}\n",
    "    #returns value of dp(x)\n",
    "    value=a[0]+a[1] #for a square mesh one of those is going to be zero\n",
    "    return value"
   ]
  },
  {
   "cell_type": "markdown",
   "metadata": {},
   "source": [
    "This next one might also have problems, it's very tidiously written because I wanted to be sure I was handling the right data."
   ]
  },
  {
   "cell_type": "code",
   "execution_count": 64,
   "metadata": {},
   "outputs": [],
   "source": [
    "def compute_H1norm (grid, edges, dp_list) :\n",
    "    #takes in the list of tangeant coefficients\n",
    "    #returns the values of int(|du-dp|^{2}) on each edge\n",
    "    norm_list=[]\n",
    "    for i in range(len(edges)):#print (\"This is the edge :\", edges[i])\n",
    "        a=[grid[edges[i][0]-1][1], grid[edges[i][0]-1][2]]\n",
    "        b=[grid[edges[i][1]-1][1], grid[edges[i][1]-1][2]]#print (\"a is :\", a)#print (\"b is :\", b)#mx=(a[0]+b[0])/2#my=(a[1]+b[1])/2\n",
    "        coeff=[dp_list[i][1], dp_list[i][2]]#print (\"the coefficients are \", coeff)\n",
    "        norm=0.\n",
    "        if b[0]-a[0]==0.:#print (\"vertical edge\")#print (\"dp is :\", dp(coeff, [a[0],my]) )#print (\"du is :\", du([a[0],my]) )\n",
    "            norm=quad(lambda y: (abs(dp(coeff, [a[0],y])-du([a[0],y]))*abs(dp(coeff, [a[0],y])-du([a[0],y]))),\n",
    "                              a[1], b[1])#print (\"norm :\", norm)\n",
    "        else :#print (\"horizontal edge\")#print (\"dp is :\", dp(coeff, [a[0],mx]) )#print (\"du is :\", du([a[0],mx]) )\n",
    "            norm=quad(lambda x: (abs(dp(coeff, [x,a[1]])-du([x,a[1]]))*abs(dp(coeff, [x,a[1]])-du([x,a[1]]))),\n",
    "                              a[0], b[0])#print (\"norm :\", norm)\n",
    "        norm_list.append(norm) \n",
    "    somme=0.0\n",
    "    for i in range(len(norm_list)):\n",
    "        somme+=norm_list[i][0]\n",
    "    return somme"
   ]
  },
  {
   "cell_type": "code",
   "execution_count": 65,
   "metadata": {},
   "outputs": [],
   "source": [
    "def H1_norm (grid, edges, solution):\n",
    "    u_array=order_u_values (solution[0]+solution[3], solution[1].tolist()+solution[2])\n",
    "    oriented_edges=[]\n",
    "    for i in range(len(edges)):\n",
    "        edge=orient_edge(edges[i], grid)\n",
    "        oriented_edges.append(edge)\n",
    "    p_list=generate_interp (oriented_edges, grid, u_array)\n",
    "    dp_list=generate_dp (p_list)\n",
    "    norm = compute_H1norm (grid, edges, dp_list)\n",
    "    return norm"
   ]
  },
  {
   "cell_type": "code",
   "execution_count": 66,
   "metadata": {},
   "outputs": [
    {
     "name": "stdout",
     "output_type": "stream",
     "text": [
      "H1 Norm : 4.788138442965687\n",
      "Mesh Size : 1.0\n",
      "H1 Norm : 3.138607622189701\n",
      "Mesh Size : 0.5\n",
      "H1 Norm : 2.7448078174603023\n",
      "Mesh Size : 0.25\n"
     ]
    }
   ],
   "source": [
    "dimension=4.0 #float, length of the square that contains the mesh\n",
    "corner=0 #acts as boolean\n",
    "angle=110. #float, angle of the corner in degrees between 0 and 180.\n",
    "            # note that if angle is between 71 and 109\n",
    "              #it'll be interpreted as a right angle\n",
    "#####\n",
    "repeat =3 # we will refine twice\n",
    "#####\n",
    "mesh=generate_mesh(dimension, corner, angle)\n",
    "for i in range(repeat):\n",
    "    solution=PDE_Solve_no_neumann(mesh)\n",
    "    H1=H1_norm(mesh[0], mesh[3], solution)\n",
    "    print (\"H1 Norm :\",math.sqrt(H1)) \n",
    "    print (\"Mesh Size :\", length(mesh[3][i], mesh[0]))\n",
    "    mesh=mesh_refinement(mesh[0], mesh[1], mesh[2],[mesh[4],mesh[5]])\n",
    "    "
   ]
  },
  {
   "cell_type": "markdown",
   "metadata": {},
   "source": [
    "This is obviously not correct. I did try to find where the bug was and noticed I had consistent overshoot along the right side of the mesh, where the function takes non zero values. I think what's happening is that I'm not interpolating correctly. I'm quite sad that this is working, but I don't really have time to go back and fix it unfortunately. At least it's decreasing with the mesh size."
   ]
  },
  {
   "cell_type": "markdown",
   "metadata": {},
   "source": [
    "Question 3 : Repeat the preceding exercise for the L^{2}-error of the finite element solution. Explain the results."
   ]
  },
  {
   "cell_type": "code",
   "execution_count": 67,
   "metadata": {},
   "outputs": [],
   "source": [
    "def p(a, x):\n",
    "    #takes in a list of coefficient a[] and point x[]\n",
    "    #returns value of interpolant\n",
    "    value=a[0]*x[0]+a[1]*x[1]+a[2]#print (a)#print (x)\n",
    "    return value"
   ]
  },
  {
   "cell_type": "code",
   "execution_count": 68,
   "metadata": {},
   "outputs": [],
   "source": [
    "def compute_L2norm (grid, edges, p_list) :\n",
    "    norm_list=[]\n",
    "    for i in range(len(edges)):#print (\"This is the edge :\", edges[i])\n",
    "        a=[grid[edges[i][0]-1][1], grid[edges[i][0]-1][2]]\n",
    "        b=[grid[edges[i][1]-1][1], grid[edges[i][1]-1][2]]#print (\"a is :\", a)#print (\"b is :\", b)#mx=(a[0]+b[0])/2#my=(a[1]+b[1])/2\n",
    "        coeff=[p_list[i][1], p_list[i][2], p_list[i][3]]#print (\"the coefficients are \", coeff)\n",
    "        norm=0.\n",
    "        if b[0]-a[0]==0.:#print (\"vertical edge\")#print (\"dp is :\", dp(coeff, [a[0],my]) )#print (\"du is :\", du([a[0],my]) )\n",
    "            norm=quad(lambda y: (abs(p(coeff, [a[0],y])-du([a[0],y]))*abs(p(coeff, [a[0],y])-du([a[0],y]))),\n",
    "                            a[1], b[1])#print (\"norm :\", norm)\n",
    "        else :#print (\"horizontal edge\")#print (\"p is :\", p(coeff, [mx, a[1]]) )#print (\"u is :\", u([mx, a[1]]))\n",
    "            norm=quad(lambda x: (abs(p(coeff, [x,a[1]])-u([x,a[1]]))*abs(p(coeff, [x,a[1]])-u([x,a[1]]))),\n",
    "                            a[0], b[0])#print (\"norm :\", norm)\n",
    "        norm_list.append(norm) \n",
    "    somme=0.0\n",
    "    for i in range(len(norm_list)):\n",
    "        somme+=norm_list[i][0]\n",
    "    return somme"
   ]
  },
  {
   "cell_type": "code",
   "execution_count": 69,
   "metadata": {},
   "outputs": [],
   "source": [
    "def L2_norm (grid, edges, solution):\n",
    "    u_array=order_u_values (solution[0]+solution[3], solution[1].tolist()+solution[2])\n",
    "    oriented_edges=[]\n",
    "    for i in range(len(edges)):\n",
    "        edge=orient_edge(edges[i], grid)\n",
    "        oriented_edges.append(edge)\n",
    "    p_list=generate_interp (oriented_edges, grid, u_array)\n",
    "    norm=compute_L2norm (grid, edges, p_list)\n",
    "    return norm"
   ]
  },
  {
   "cell_type": "code",
   "execution_count": 70,
   "metadata": {},
   "outputs": [
    {
     "name": "stdout",
     "output_type": "stream",
     "text": [
      "L2 Norm : 5.093696265107953\n",
      "Mesh Size : 1.0\n",
      "L2 Norm : 5.035934827499937\n",
      "Mesh Size : 0.5\n",
      "L2 Norm : 4.452702257237994\n",
      "Mesh Size : 0.25\n"
     ]
    }
   ],
   "source": [
    "dimension=4.0 #float, length of the square that contains the mesh\n",
    "corner=0 #acts as boolean\n",
    "angle=110. #float, angle of the corner in degrees between 0 and 180.\n",
    "            # note that if angle is between 71 and 109 \n",
    "             #it'll be interpreted as a right angle\n",
    "#####\n",
    "repeat =3 \n",
    "#####\n",
    "mesh=generate_mesh(dimension, corner, angle)\n",
    "for i in range(repeat):\n",
    "    solution=PDE_Solve_no_neumann(mesh)\n",
    "    L2=L2_norm (mesh[0], mesh[3], solution)\n",
    "    print (\"L2 Norm :\", math.sqrt(L2))\n",
    "    print (\"Mesh Size :\", length(mesh[3][i], mesh[0]))\n",
    "    mesh=mesh_refinement(mesh[0], mesh[1], mesh[2],[mesh[4],mesh[5]])"
   ]
  },
  {
   "cell_type": "markdown",
   "metadata": {},
   "source": [
    "Unsurprisingly this is also wrong, but we note that it's much bigger in magnitude which makes sense since we are in a Sobolev space so the H1 norm should be more precise than the L2 norm."
   ]
  },
  {
   "cell_type": "markdown",
   "metadata": {},
   "source": [
    "Question 4: Repeat the 3 preceding exercises for a smooth function u on a domain with a re-entrant corner. Explain the results."
   ]
  },
  {
   "cell_type": "code",
   "execution_count": 71,
   "metadata": {},
   "outputs": [
    {
     "name": "stdout",
     "output_type": "stream",
     "text": [
      "---\n",
      "on average : 0.32422249880038384\n",
      "H1 Norm : 3.6644359038172625\n",
      "Mesh Size : 1.0\n",
      "L2 Norm : 4.219043750983692\n",
      "Mesh Size : 1.0\n",
      "---\n",
      "on average : 0.28824338942572114\n",
      "H1 Norm : 3.010760393947853\n",
      "Mesh Size : 0.5\n",
      "L2 Norm : 4.050904855412736\n",
      "Mesh Size : 0.5\n",
      "---\n",
      "on average : 0.2600749781406311\n",
      "H1 Norm : 2.7119388126000166\n",
      "Mesh Size : 0.25\n",
      "L2 Norm : 3.671860043364236\n",
      "Mesh Size : 0.25\n",
      "---\n"
     ]
    }
   ],
   "source": [
    "dimension=4.0 #float, length of the square that contains the mesh\n",
    "corner=1 #acts as boolean\n",
    "angle=90. #float, angle of the corner in degrees between 0 and 180.\n",
    "            # note that if angle is between 71 and 109 it'll be interpreted as a right angle\n",
    "#####\n",
    "repeat =3 \n",
    "#####\n",
    "mesh=generate_mesh(dimension, corner, angle)\n",
    "for i in range(repeat):\n",
    "    solution=PDE_Solve_no_neumann(mesh)\n",
    "    #print (\"grid :\", mesh[0])\n",
    "    #print (\"rectangles :\",mesh[2])\n",
    "    #print (\"edges :\", mesh[3])\n",
    "    #print (\"dirichlet :\", mesh[4])\n",
    "    #\n",
    "    actual=compute_actual (solution[0], mesh[0])\n",
    "    error=compute_inf_err (solution [1], actual)\n",
    "    av=error_average (error)\n",
    "    print (\"---\")\n",
    "    print (\"on average :\", av)\n",
    "    H1=H1_norm(mesh[0], mesh[3], solution)\n",
    "    print (\"H1 Norm :\",math.sqrt(H1)) \n",
    "    print (\"Mesh Size :\", length(mesh[3][i], mesh[0]))\n",
    "    L2=L2_norm (mesh[0], mesh[3], solution)\n",
    "    print (\"L2 Norm :\", math.sqrt(L2))\n",
    "    print (\"Mesh Size :\", length(mesh[3][i], mesh[0]))\n",
    "    mesh=mesh_refinement(mesh[0], mesh[1], mesh[2],[mesh[4],mesh[5]])\n",
    "print (\"---\")"
   ]
  },
  {
   "cell_type": "markdown",
   "metadata": {},
   "source": [
    "I'm a bit worried because I was expecting bigger error with a corner mesh. The domain is less smooth so the approximation should be less good. I wonder if this is just a consequence of the overshoot for a square mesh or if there' another error somewhere else. We note that the average point by point error is bigger here than on the square mesh example."
   ]
  },
  {
   "cell_type": "markdown",
   "metadata": {},
   "source": [
    "Question 5 : In a domain with a re-entrant corner, consider a solution of the form u(r, \\theta)=r^{a}sin(a*\\theta), where the coordinate origin is at the re-entrant corner, andd the rays \\theta =0, \\theta= \\pi/a correspond to the two sides of the corner. For example, for an L-shaped domain, we would have a=2/3. Repeat exercises 1-3. "
   ]
  },
  {
   "cell_type": "markdown",
   "metadata": {},
   "source": [
    "So I have already written a code for the angle mesh. However the coordinates do not really match since my re-entrant corner is at the bottom right corner. This being said I think I can get away with write a function that translates all the coordinates so that (0,0) is at the bottom right node. I might get in trouble with negative coordinates though because I recall having written some functions just assuming to get only positive values in there. We shall see."
   ]
  },
  {
   "cell_type": "code",
   "execution_count": 77,
   "metadata": {},
   "outputs": [],
   "source": [
    "def translate_grid (grid):\n",
    "    #takes in the grid\n",
    "    #returns it so the the origin is at the re-entrant corner\n",
    "    l=math.ceil(dimension)+1\n",
    "    point=mesh[0][2*(l-1)-1]\n",
    "    grid=[]\n",
    "    for i in range(len(mesh[0])):\n",
    "        a=mesh[0][i][1]-point[1]\n",
    "        b=mesh[0][i][2]-point[2]\n",
    "        grid.append([i+1, a, b])\n",
    "    return grid"
   ]
  },
  {
   "cell_type": "markdown",
   "metadata": {},
   "source": [
    "The previous function does the translating. Now I have to figure out where it is safe to insert it. I think right before doing the PDE solving is good, because in the mesh generator I think I need to have the x=0,y=0, x=dim, y=dim criteria to define the boundary. So I'm going to write a slightly different PDE Solver for this particular problem."
   ]
  },
  {
   "cell_type": "code",
   "execution_count": 79,
   "metadata": {},
   "outputs": [],
   "source": [
    "def PDE_Solve_Q5_no_neumann (mesh):\n",
    "    #takes in [coordinates, triangles, rectangles, edges, neumann, dirichlet]\n",
    "    #returns values at free nodes given \\nabla(u)= f and g on boundary\n",
    "    organised=generate_free(mesh[5]+mesh[4], mesh[0])\n",
    "    omesh=update_mesh (mesh, organised)\n",
    "    omesh[0]=translate_grid (omesh[0])\n",
    "    A=generate_stiffness(omesh[0] ,omesh[1] ,omesh[2])\n",
    "    b=generate_rhs(omesh[0], omesh[1]+omesh[2], [])\n",
    "    Ud=compute_Ud (mesh[0], organised[1])\n",
    "    U=Free_Solve (A, b, Ud)                \n",
    "    return [organised[0], U, Ud, organised[1]]"
   ]
  },
  {
   "cell_type": "markdown",
   "metadata": {},
   "source": [
    "I also have to take care of the new f,g,h so I'll declare a global variable Q5 so that I can directly get a new if statement in the f,g,h cells, instead of writting completely new functions."
   ]
  },
  {
   "cell_type": "code",
   "execution_count": 78,
   "metadata": {},
   "outputs": [
    {
     "name": "stdout",
     "output_type": "stream",
     "text": [
      "[[1, -3.0, -1.0], [2, -2.0, -1.0], [3, -1.0, -1.0], [4, 0.557851739352194, -1.0], [5, -3.0, 0.0], [6, -2.0, 0.0], [7, -1.0, 0.0], [8, 0.0, 0.0], [9, 1.0, -0.5578517393521941], [10, -3.0, 1.0], [11, -2.0, 1.0], [12, -1.0, 1.0], [13, 0.0, 1.0], [14, 1.0, 1.0], [15, -3.0, 2.0], [16, -2.0, 2.0], [17, -1.0, 2.0], [18, 0.0, 2.0], [19, 1.0, 2.0], [20, -3.0, 3.0], [21, -2.0, 3.0], [22, -1.0, 3.0], [23, 0.0, 3.0], [24, 1.0, 3.0]]\n"
     ]
    }
   ],
   "source": [
    "dimension=4.0 #float, length of the square that contains the mesh\n",
    "corner=1 #acts as boolean\n",
    "angle=45. #float, angle of the corner in degrees between 0 and 180.\n",
    "            # note that if angle is between 71 and 109 \n",
    "              #it'll be interpreted as a right angle\n",
    "Q5=1 #acts as boolean\n",
    "#####\n",
    "repeat =3 # we will refine twice\n",
    "#####\n",
    "mesh=generate_mesh(dimension, corner, angle)\n",
    "\n",
    "##translate everything\n",
    "grid=translate_grid (mesh[0])\n",
    "print (grid)\n",
    "#\n",
    "##hope it goes well"
   ]
  },
  {
   "cell_type": "markdown",
   "metadata": {},
   "source": [
    "I need to switch to cartesian coordinates for the f,g,h functions and it's more work than I thought so I'm actually not going to be able to finish today. Very soon though."
   ]
  },
  {
   "cell_type": "code",
   "execution_count": null,
   "metadata": {},
   "outputs": [],
   "source": []
  }
 ],
 "metadata": {
  "kernelspec": {
   "display_name": "Python 3",
   "language": "python",
   "name": "python3"
  },
  "language_info": {
   "codemirror_mode": {
    "name": "ipython",
    "version": 3
   },
   "file_extension": ".py",
   "mimetype": "text/x-python",
   "name": "python",
   "nbconvert_exporter": "python",
   "pygments_lexer": "ipython3",
   "version": "3.7.4"
  }
 },
 "nbformat": 4,
 "nbformat_minor": 4
}
