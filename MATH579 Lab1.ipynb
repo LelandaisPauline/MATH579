{
 "cells": [
  {
   "cell_type": "code",
   "execution_count": 932,
   "metadata": {},
   "outputs": [],
   "source": [
    "import numpy as np\n",
    "import math"
   ]
  },
  {
   "cell_type": "markdown",
   "metadata": {
    "collapsed": true
   },
   "source": [
    "    We want to implement a finite element approximation of the solution to a Dirichlet problem for the Laplace Equation. We also have implemented a mesh refinement function which splits each edge into two halves and constructs triangles and rectangles, neumann and dirichlet arrays from there. We work with a domain that is inside a square of side length =3.0 and outside of a circle of radius 1.14 centered at the bottom left corner of the square.The mesh refinement function can easily be adapted to another kind of domain.\n",
    " "
   ]
  },
  {
   "cell_type": "code",
   "execution_count": 933,
   "metadata": {},
   "outputs": [],
   "source": [
    "def f (X):\n",
    "    #Volume Force function\n",
    "    x=-X[0]*X[1]\n",
    "    return 0"
   ]
  },
  {
   "cell_type": "code",
   "execution_count": 934,
   "metadata": {},
   "outputs": [],
   "source": [
    "def g (X):\n",
    "    #neumann condition function\n",
    "    return 0"
   ]
  },
  {
   "cell_type": "code",
   "execution_count": 935,
   "metadata": {},
   "outputs": [],
   "source": [
    "def d (X):\n",
    "    #dirichlet bdry condition\n",
    "    y=1+X[0]*X[0]+X[1]*X[1]\n",
    "    return 2.0"
   ]
  },
  {
   "cell_type": "code",
   "execution_count": 936,
   "metadata": {},
   "outputs": [],
   "source": [
    "def scamult(k, mat):\n",
    "    # I ran into troubles when multiplying a matrix by a scalar zero so \n",
    "    # I made my own mutliplication function\n",
    "    l=len(mat)\n",
    "    target=[[0.0 for i in range(l)] for i in range(l)]\n",
    "    for i in range(l):\n",
    "        for j in range(l):\n",
    "            target[i][j]=mat[i][j]*k\n",
    "    return target"
   ]
  },
  {
   "cell_type": "code",
   "execution_count": 937,
   "metadata": {},
   "outputs": [],
   "source": [
    "def matadd (mat1, mat2):\n",
    "    #I also ran into trouble when simply adding matrices together somehow \n",
    "    #so there we are\n",
    "    l=len(mat1)\n",
    "    target =[[0.0 for i in range(l)] for i in range(l)]\n",
    "    for i in range(l):\n",
    "        for j in range(l):\n",
    "            target[i][j]=mat1[i][j]+mat2[i][j]\n",
    "    return target     "
   ]
  },
  {
   "cell_type": "code",
   "execution_count": 938,
   "metadata": {},
   "outputs": [],
   "source": [
    "def vectadd(u,v):\n",
    "    #somehow I also run into trouble\n",
    "    #when adding vectors together\n",
    "    l=len(u)\n",
    "    result=[0.0 for i in range(l)]\n",
    "    for i in range(l):\n",
    "        result[i]=u[i]+v[i]\n",
    "    return result"
   ]
  },
  {
   "cell_type": "code",
   "execution_count": 939,
   "metadata": {},
   "outputs": [],
   "source": [
    "def delta (j, k) : \n",
    "    #classical delta function \n",
    "    #I should have used this function more efficiently but idk\n",
    "    #if I have time I'll try to make this program prettier\n",
    "    x=-1\n",
    "    if j==k : \n",
    "        x=1\n",
    "    else:\n",
    "        x=0\n",
    "    return x"
   ]
  },
  {
   "cell_type": "code",
   "execution_count": 940,
   "metadata": {},
   "outputs": [],
   "source": [
    "def d_Phi (ordered):\n",
    "    #takes in array of nodes ordered by j\n",
    "    #computes area matrix\n",
    "    l=len(ordered)#print l\n",
    "    if l == 3 : #triangle #print \"Im a triangle in d_Phi\"\n",
    "        dPhi= [[ordered[1][1]-ordered[0][1], ordered[2][1]-ordered[0][1]],\n",
    "               [ordered[1][2]-ordered[0][2], ordered[2][2]-ordered[0][2]]]#print dPhi\n",
    "    else :#print \"Im a rectangle in d_Phi\"\n",
    "        if l ==4 : #rectangle\n",
    "            dPhi=[[ordered[1][1]-ordered[0][1], ordered[3][1]-ordered[0][1]],\n",
    "                  [ordered[1][2]-ordered[0][2], ordered[3][2]-ordered[0][2]]]\n",
    "        else :\n",
    "            print (\"error dPhi\")#print dPhi\n",
    "    return dPhi\n",
    "            "
   ]
  },
  {
   "cell_type": "code",
   "execution_count": 941,
   "metadata": {},
   "outputs": [],
   "source": [
    "def findnode (j, element) : \n",
    "    #given an integer j between 1 and 15, \n",
    "    #returns the index of the node in\n",
    "    #elements [number, node 1 , node 2 , node 3]\n",
    "    l = len(element)\n",
    "    index=0\n",
    "    for i in range (l-1): #either 0-2 or 0-3 \n",
    "        k=element[i+1]\n",
    "        if k ==j : \n",
    "            index=i+1\n",
    "    return index"
   ]
  },
  {
   "cell_type": "code",
   "execution_count": 942,
   "metadata": {},
   "outputs": [],
   "source": [
    "def node_order(j, element, coordinates):\n",
    "    #takes in element array and j\n",
    "    #returns array of nodes ordered wrt j\n",
    "    #works for edge, triangles and rectangles\n",
    "    l=len(element)\n",
    "    k=findnode(j, element)#print \"k\"#print k\n",
    "    if k ==0 :\n",
    "        ordered=[[0.0 for i in range(3)] for i in range(l-1)]\n",
    "    else :\n",
    "        nodes=[]\n",
    "        for i in range(l-1):\n",
    "            nodes.append(element[i+1])#print \"nodes general\"#print nodes\n",
    "        ordered=[]\n",
    "        for i in range(l-1):#print \"i\"#print i\n",
    "            ordered.append(coordinates[nodes[(k+i-1)%(l-1)]-1])#print ordered\n",
    "    return ordered    "
   ]
  },
  {
   "cell_type": "code",
   "execution_count": 943,
   "metadata": {},
   "outputs": [],
   "source": [
    "def stiffmat3(j, triangle, coordinates) : \n",
    "    #computes \\nabla of delta function \n",
    "    #returns a vector\n",
    "    nodes = node_order(j, triangle, coordinates)\n",
    "    dPhi=d_Phi(nodes)\n",
    "    A=np.linalg.det(dPhi)#print (A)\n",
    "    D = [[1          ,1          ,1          ],\n",
    "         [nodes[0][1],nodes[1][1],nodes[2][1]],\n",
    "         [nodes[0][2],nodes[1][2],nodes[2][2]]]\n",
    "    Dinv=np.linalg.inv(D)#print (Dinv)\n",
    "    mat = [[0,0],\n",
    "           [1,0],\n",
    "           [0,1]]\n",
    "    G = np.dot(Dinv, mat)#print (G)\n",
    "    \n",
    "    G_t=np.transpose(G)\n",
    "    mat=np.dot(G, G_t)\n",
    "    M=A/4*mat#print (M)    \n",
    "    return M"
   ]
  },
  {
   "cell_type": "code",
   "execution_count": 944,
   "metadata": {},
   "outputs": [],
   "source": [
    "def stiffmat4 (j, rectangle, coordinates) :\n",
    "    \n",
    "    nodes = node_order(j, rectangle, coordinates)\n",
    "    dPhi=d_Phi(nodes)\n",
    "    dPhi_t = np.transpose(dPhi)\n",
    "    mat= dPhi_t*dPhi\n",
    "    B= np.linalg.inv (mat)\n",
    "    \n",
    "    det=np.linalg.det(dPhi)\n",
    "    \n",
    "    a= [[2.0,-2.0],\n",
    "        [-2.0,2.0]] \n",
    "    b=[[3.0,0.0],\n",
    "       [0.0,-3.0]]    #very tidious but I couldnt find a safe \n",
    "    c=[[2.0,1.0],      #    way around\n",
    "       [1.0,2.0]]\n",
    "    a_=scamult(B[0][0],a)\n",
    "    b_=scamult(B[0][1],b)\n",
    "    c_=scamult(B[1][1],c)\n",
    "    x= matadd(a_,b_)\n",
    "    C=matadd(x,c_)#print C\n",
    "    \n",
    "    d=[[-1.0,1.0],[1.0,-1.0]]\n",
    "    e=[[-1.0,-2.0],[-2.0,-1.0]]\n",
    "    d_=scamult(B[0][0],d)\n",
    "    e_=scamult(B[1][1],e)\n",
    "    f_=scamult(-1*B[0][1],b)\n",
    "    y=matadd(d_,e_)\n",
    "    D=matadd(y,f_)#print D\n",
    "    \n",
    "    K = det/6#print K#print b*K\n",
    "    \n",
    "    N= [[C[0][0], C[0][1], D[0][0], D[0][1]],\n",
    "        [C[1][0], C[1][1], D[1][0], D[1][1]],\n",
    "        [D[0][0], D[0][1], C[0][0], C[0][1]],\n",
    "        [D[1][0], D[1][1], C[1][0], C[1][1]]]#print N\n",
    "    M=scamult(K, N)#print M\n",
    "    return M"
   ]
  },
  {
   "cell_type": "code",
   "execution_count": 945,
   "metadata": {},
   "outputs": [],
   "source": [
    "def mat_assembly (rectangles, triangles, coordinates) : #convincingly debugged\n",
    "    nn=len(coordinates)\n",
    "    A=[[0.0 for i in range(nn)] for i in range(nn)]#initialising   \n",
    "    m=0\n",
    "    n_t=len(triangles) #for each triangle\n",
    "    for i in range(n_t):\n",
    "        m+=1\n",
    "        nodes=[triangles[i][1], triangles[i][2],triangles[i][3]] #isolate nodes number #print (nodes[0] )#print (triangles[i])\n",
    "        mat=stiffmat3(nodes[0], triangles[i], coordinates) #calculate stiffness mat\n",
    "        for j in range(3):\n",
    "            for k in range(3):#print (nodes[j])#print (nodes[k])\n",
    "                A[nodes[j]-1][nodes[k]-1]=mat[j][k] #add stiffness coeff to adequate entry in A#print (A)\n",
    "    \n",
    "    n_r=len(rectangles)\n",
    "    for i in range(n_r):\n",
    "        m+=1\n",
    "        nodes = [rectangles[i][1], rectangles[i][2],rectangles[i][3],rectangles[i][4]]\n",
    "        mat =stiffmat4 (nodes[0], rectangles[i], coordinates)\n",
    "        for j in range(4):\n",
    "            for k in range(4):\n",
    "                A[nodes[j]-1][nodes[k]-1]=mat[j][k]#print (A)#print (m)\n",
    "    return A"
   ]
  },
  {
   "cell_type": "code",
   "execution_count": 946,
   "metadata": {},
   "outputs": [],
   "source": [
    "def gcent (nodes):\n",
    "    #takesin array of coordinates of 1 element\n",
    "    #returns coordinates of center of gravity of element\n",
    "    l = len(nodes) #either 2, 3 or 4 #print (l)\n",
    "    x=0\n",
    "    y=0\n",
    "    for i in range(l): #either 0-1, 0-2 or 0-3\n",
    "        x+= nodes[i][1]\n",
    "        y+=nodes[i][2]\n",
    "    x=x/l\n",
    "    y=y/l\n",
    "    return [x,y]"
   ]
  },
  {
   "cell_type": "code",
   "execution_count": 947,
   "metadata": {},
   "outputs": [],
   "source": [
    "def VF_el (j, element, coordinates):\n",
    "    if len(element)== 4:\n",
    "        k=6\n",
    "    else :\n",
    "        k=4\n",
    "    delta=1.0\n",
    "    nodes = node_order(j, element, coordinates)#print nodes\n",
    "    if nodes[0][0] == 0.0:#print edge\n",
    "        delta=0.0\n",
    "    dPhi=d_Phi(nodes)\n",
    "    det= np.linalg.det(dPhi)\n",
    "    X=gcent(nodes)#print (delta, det, k, X, f(X))#print (nodes)\n",
    "    Sum= delta*det/k * f(X)\n",
    "    return Sum"
   ]
  },
  {
   "cell_type": "code",
   "execution_count": 948,
   "metadata": {},
   "outputs": [],
   "source": [
    "def VF (j, triangles, rectangles, coordinates) :\n",
    "    l_t=len(triangles)\n",
    "    l_r=len(rectangles)\n",
    "    Sum=0.0\n",
    "    for i in range(l_t):#print \"Im a triangle in VF\"#print triangles[i]\n",
    "        Sum+= VF_el(j, triangles[i], coordinates)#print Sum\n",
    "    for i in range(l_r):#print \"Im a rectangle in VF\"#print rectangles[i]\n",
    "        Sum+= VF_el(j, rectangles[i] , coordinates)#print Sum\n",
    "    return Sum"
   ]
  },
  {
   "cell_type": "code",
   "execution_count": 949,
   "metadata": {},
   "outputs": [],
   "source": [
    "def length (nodes):#print (nodes)\n",
    "    l=len(nodes)\n",
    "    L=0\n",
    "    if l == 2:\n",
    "        x=nodes[0][1]-nodes[1][1]#print (x)\n",
    "        y=nodes[0][2]-nodes[1][2]#print (y)\n",
    "        L=math.sqrt(x*x+y*y)#print (L)\n",
    "    else :\n",
    "        print (\"error in norm\")\n",
    "    return L"
   ]
  },
  {
   "cell_type": "code",
   "execution_count": 950,
   "metadata": {},
   "outputs": [],
   "source": [
    "def stress_el(j, edge, coordinates):\n",
    "    k=2.0\n",
    "    delta=1.0\n",
    "    nodes = node_order(j, edge, coordinates)\n",
    "    if nodes[0][0] == 0.0:#print edge\n",
    "        delta=0.0\n",
    "    L=length(nodes)\n",
    "    X=gcent(nodes)\n",
    "    Y=g(X)#print L/k#print Y[0]#print Y[1]\n",
    "    Sum = delta* L/k * Y\n",
    "    return Sum"
   ]
  },
  {
   "cell_type": "code",
   "execution_count": 951,
   "metadata": {},
   "outputs": [],
   "source": [
    "def Stress (j, neumann, coordinates) :\n",
    "    l_n=len(neumann)\n",
    "    Sum=0.0\n",
    "    for i in range(l_n):\n",
    "        Sum += stress_el(j, neumann[i], coordinates)\n",
    "    return Sum"
   ]
  },
  {
   "cell_type": "code",
   "execution_count": 952,
   "metadata": {},
   "outputs": [],
   "source": [
    "def find_b(j, triangles, rectangles, neumann, coordinates) :\n",
    "    vf=VF (j, triangles, rectangles, coordinates)\n",
    "    stress = Stress (j, neumann, coordinates)\n",
    "    b= vf +stress\n",
    "    return b"
   ]
  },
  {
   "cell_type": "code",
   "execution_count": 953,
   "metadata": {},
   "outputs": [],
   "source": [
    "def b_assembly (triangles, rectangles, neumann, coordinates):\n",
    "    b=[]\n",
    "    l=len(coordinates)\n",
    "    for j in range(l):\n",
    "        temp=find_b(j+1,triangles, rectangles, neumann, coordinates)\n",
    "        b.append(temp)\n",
    "    return b"
   ]
  },
  {
   "cell_type": "code",
   "execution_count": 954,
   "metadata": {},
   "outputs": [],
   "source": [
    "def create_free(coordinates, dirichlet): #convincingly debbuged\n",
    "    l=len(coordinates)\n",
    "    l_d=len(dirichlet)\n",
    "    free=[]\n",
    "    for i in range(l):\n",
    "        notfree=0\n",
    "        for j in range(l_d):#print (j)\n",
    "            test=dirichlet[j][1]\n",
    "            if i+1 == test:\n",
    "                notfree+=1\n",
    "            test=dirichlet[j][2]\n",
    "            if i+1 == test:\n",
    "                notfree+=1\n",
    "        if notfree==0:\n",
    "            free.append(coordinates[i])\n",
    "    return free"
   ]
  },
  {
   "cell_type": "code",
   "execution_count": 955,
   "metadata": {},
   "outputs": [],
   "source": [
    "def reordering (free, coordinates): #I think this is ok debbuged too\n",
    "    new=[]\n",
    "    l=len(coordinates)\n",
    "    l_f=len(free)\n",
    "    for i in range(l_f):\n",
    "        new.append(free[i][0])\n",
    "    for i in range(l):\n",
    "        test=coordinates[i][0]\n",
    "        free=0\n",
    "        for j in range(l_f):\n",
    "            if test == new[j]:\n",
    "                free+=1\n",
    "        if free ==0 :\n",
    "            new.append(test)\n",
    "    return new"
   ]
  },
  {
   "cell_type": "code",
   "execution_count": 956,
   "metadata": {},
   "outputs": [],
   "source": [
    "def find_new_a(A, new, l_f): #I have to debug this properly\n",
    "    l=len(new)\n",
    "    l_nf=l-l_f\n",
    "    A_11=[[0.0 for i in range(l_f)] for i in range(l_f)]\n",
    "    A_12=[[0.0 for i in range(l_f)] for i in range(l_nf)]\n",
    "    for i in range(l_f):\n",
    "        for j in range(l_f):#print (i)#print (new[i])#print(j)#print (new[j])\n",
    "            A_11[i][j]=A[new[i]-1][new[j]-1]\n",
    "    for i in range(l_nf):\n",
    "        for j in range(l_f):\n",
    "            A_12[i][j]=A[new[i+1]-1][new[j]-1]\n",
    "    return [A_11, A_12]"
   ]
  },
  {
   "cell_type": "code",
   "execution_count": 957,
   "metadata": {},
   "outputs": [],
   "source": [
    "def isolate_b (b, new, l_f): #this works\n",
    "    new_b=[]\n",
    "    for i in range(l_f):\n",
    "        new_b.append(b[new[i]-1])\n",
    "    return new_b"
   ]
  },
  {
   "cell_type": "code",
   "execution_count": 958,
   "metadata": {},
   "outputs": [],
   "source": [
    "def find_U_D (coordinates, new, l_f):\n",
    "    l_t=len(new)\n",
    "    l=l_t-l_f\n",
    "    U_D=[]\n",
    "    for i in range(l):\n",
    "        x=coordinates[new[l_f+i]-1][1]\n",
    "        y=coordinates[new[l_f+i]-1][2]\n",
    "        u_d=d([x,y]) #values at dirichlet nodes\n",
    "        U_D.append(u_d)\n",
    "    return U_D"
   ]
  },
  {
   "cell_type": "code",
   "execution_count": 959,
   "metadata": {},
   "outputs": [],
   "source": [
    "def find_U (A_11, A_12, new_b, new, coordinates):\n",
    "    l_f=len(new_b)\n",
    "    U_D= find_U_D (coordinates, new, l_f)\n",
    "    mat=np.linalg.inv(A_11)\n",
    "    A_12_t=np.transpose(A_12)\n",
    "    temp=np.dot(A_12_t, U_D)\n",
    "    temp_2=new_b-temp\n",
    "    U=np.dot(mat,temp_2)\n",
    "    return U"
   ]
  },
  {
   "cell_type": "code",
   "execution_count": 960,
   "metadata": {},
   "outputs": [],
   "source": [
    "def solve_free (A, b, coordinates, dirichlet) : #so I dont think this works well.\n",
    "    free=create_free(coordinates, dirichlet)\n",
    "    l_f=len(free)\n",
    "    new=reordering (free, coordinates)\n",
    "    A_list=find_new_a(A, new, l_f)#print (A, A_list[0], A_list[1])\n",
    "    b_new=isolate_b (b, new, l_f)#print (b,free,b_new)\n",
    "    U_free = find_U (A_list[0], A_list[1], b_new, new, coordinates)\n",
    "    return U_free"
   ]
  },
  {
   "cell_type": "code",
   "execution_count": 961,
   "metadata": {},
   "outputs": [],
   "source": [
    "def split_tri(triangle, coordinates): #this is GOOD\n",
    "    l=len(coordinates)\n",
    "    nodes=[coordinates[triangle[1]-1],coordinates[triangle[2]-1],coordinates[triangle[3]-1]]#print (nodes)\n",
    "    midpoints=[]\n",
    "    new=[]\n",
    "    for i in range(3):#print ([nodes[(i)%3],nodes[(i+1)%3]])\n",
    "        mid = gcent([nodes[(i)%3],nodes[(i+1)%3]])  \n",
    "        l=len(coordinates)\n",
    "        temp=[l+1, mid[0], mid[1]]\n",
    "        already=0\n",
    "        for j in range(l): #check this midpoint isnt already a node#print (j)\n",
    "            test=coordinates[j]\n",
    "            if test[1]==temp[1]:\n",
    "                if test[2]==temp[2]: #if it is already a node#print (\"Im already a node\")\n",
    "                    already=1#print (test, temp)\n",
    "                    temp=test #will use it to build new triangles   \n",
    "        if already ==0:\n",
    "            coordinates.append(temp)\n",
    "        midpoints.append(temp[0])\n",
    "    for i in range(4):\n",
    "        if i==3:\n",
    "            new_tri=[i, midpoints[0],midpoints[1],midpoints[2]]\n",
    "        else:\n",
    "            new_tri=[i, nodes[i][0], midpoints[i], midpoints[(i-1)%3]]     \n",
    "        new.append(new_tri)#print (coordinates)\n",
    "    return [new,coordinates]"
   ]
  },
  {
   "cell_type": "code",
   "execution_count": 962,
   "metadata": {},
   "outputs": [],
   "source": [
    "def split_rect (rectangle, coordinates): #this works well\n",
    "    l=len(coordinates)\n",
    "    nodes = [coordinates[rectangle[1]-1],coordinates[rectangle[2]-1]\n",
    "             ,coordinates[rectangle[3]-1],coordinates[rectangle[4]-1]]#print (nodes)\n",
    "    midpoints=[]\n",
    "    new=[]\n",
    "    for i in range(4):\n",
    "        mid= gcent([nodes[(i)%4], nodes[(i+1)%4] ]) \n",
    "        l=len(coordinates)\n",
    "        temp = [l+1, mid[0], mid[1]]\n",
    "        already=0\n",
    "        for j in range(l): #check this midpoint isnt already a node#print (j)\n",
    "            test=coordinates[j]\n",
    "            if test[1]==temp[1]:\n",
    "                if test[2]==temp[2]: #if it is already a node#print (\"Im already a node\")\n",
    "                    already=1#print (test, temp)\n",
    "                    temp=test #will use it to build new rectangles\n",
    "        if already ==0:\n",
    "            coordinates.append(temp)            \n",
    "        midpoints.append(temp[0])\n",
    "    \n",
    "    g=gcent(nodes)\n",
    "    l_c=len(coordinates)\n",
    "    coordinates.append([l_c+1,g[0],g[1]])\n",
    "    midpoints.append(l_c+1)#print (midpoints)\n",
    "    \n",
    "    for i in range(4):#print (nodes[i][0])\n",
    "        new_rect = [ i, nodes[i][0], midpoints[i], midpoints[4], midpoints[(i-1)%4]  ]\n",
    "        new.append(new_rect)\n",
    "    return [new,coordinates]"
   ]
  },
  {
   "cell_type": "code",
   "execution_count": 963,
   "metadata": {},
   "outputs": [],
   "source": [
    "def new_bdry (coordinates, rectangles, triangles): #this is good\n",
    "    l_r=len(rectangles)\n",
    "    l_t=len(triangles)\n",
    "    new_n=[]\n",
    "    new_d=[]\n",
    "    for i in range(l_t):\n",
    "        for j in range(3):\n",
    "            edge= [triangles[i][1+(j)%3],triangles[i][1+(j+1)%3]]\n",
    "            neumann=isitneumann(edge, coordinates)\n",
    "            dirichlet=isitdirichlet (edge, coordinates)\n",
    "            if neumann==1:\n",
    "                new_n.append([ len(new_n)+1, edge[0],edge[1]])\n",
    "            if dirichlet ==2:\n",
    "                new_d.append([len(new_d)+1, edge[0], edge[1]])\n",
    "    for i in range(l_r):\n",
    "        for j in range(4):\n",
    "            edge = [rectangles[i][1+(j)%4],rectangles[i][1+(j+1)%4]]\n",
    "            neumann=isitneumann(edge, coordinates)\n",
    "            dirichlet=isitdirichlet (edge, coordinates)\n",
    "            if neumann==1:\n",
    "                new_n.append([ len(new_n)+1, edge[0],edge[1]])\n",
    "            if dirichlet ==2:\n",
    "                new_d.append([len(new_d)+1, edge[0], edge[1]])\n",
    "    return [new_n, new_d]"
   ]
  },
  {
   "cell_type": "code",
   "execution_count": 964,
   "metadata": {},
   "outputs": [],
   "source": [
    "def isitneumann (edge, coordinates): #this works\n",
    "    test=0#print (edge)\n",
    "    A=coordinates[edge[0]-1]#print (A)\n",
    "    B=coordinates[edge[1]-1]#print (B)\n",
    "    x_diff = A[1]-B[1]\n",
    "    y_diff = A[2]-B[2]\n",
    "    if x_diff== 0.0:\n",
    "        if A[1] ==3.0 :#print (\"Im on x=3\")\n",
    "            test=1\n",
    "    if y_diff == 0.0:\n",
    "        if A[2] == 0.0:#print (\"Im on the x axis\")\n",
    "            test=1\n",
    "    return test"
   ]
  },
  {
   "cell_type": "code",
   "execution_count": 965,
   "metadata": {},
   "outputs": [],
   "source": [
    "def checkcircle(A,B): #debugged\n",
    "    test=0\n",
    "    x=[abs(A[1]-3.0), A[2]]\n",
    "    y=[abs(B[1]-3.0), B[2]]\n",
    "    l_x=math.sqrt (x[0]*x[0]+x[1]*x[1])\n",
    "    l_y=math.sqrt (y[0]*y[0]+y[1]*y[1])\n",
    "    if l_x <1.42:\n",
    "        if l_y <1.42 :#print(\"Im in the circle\")\n",
    "            test=1\n",
    "    return test"
   ]
  },
  {
   "cell_type": "code",
   "execution_count": 966,
   "metadata": {},
   "outputs": [],
   "source": [
    "def isitdirichlet (edge, coordinates) : #this works too\n",
    "    #print (edge)\n",
    "    test=0\n",
    "    A=coordinates[edge[0]-1]\n",
    "    #print (A)\n",
    "    B=coordinates[edge[1]-1]\n",
    "    #print (B)\n",
    "    x_diff = A[1]-B[1]\n",
    "    y_diff = A[2]-B[2]\n",
    "    if x_diff == 0.0 :\n",
    "        if A[1] == 0.0 : #print (\"Im on the y-axis\")\n",
    "            test=2\n",
    "    if y_diff ==0.0:\n",
    "        if A[2]==3.0:#print (\"Im on y=3\")\n",
    "            test=2\n",
    "    circle=checkcircle(A,B)\n",
    "    if circle ==1:\n",
    "        test=2\n",
    "    return test"
   ]
  },
  {
   "cell_type": "code",
   "execution_count": 967,
   "metadata": {},
   "outputs": [],
   "source": [
    "def mesh_refinement (coordinates, triangles, rectangles): #Im fairly convinced this works\n",
    "    l_t=len(triangles)#print (l_t)\n",
    "    l_r=len(rectangles)\n",
    "    new_tri=[]\n",
    "    new_rect=[]\n",
    "    for i in range(l_t):#print (i)\n",
    "        couple=split_tri(triangles[i], coordinates)\n",
    "        l_n=len(couple[0])\n",
    "        for j in range(l_n):\n",
    "            new_tri.append(couple[0][j])\n",
    "        coordinates=couple[1]\n",
    "    for i in range(l_r):#print (i)\n",
    "        couple=split_rect(rectangles[i], coordinates)\n",
    "        l_n=len(couple[0])\n",
    "        for j in range(l_n):\n",
    "            new_rect.append(couple[0][j])\n",
    "        coordinates=couple[1]#print (coordinates)#print (couple[0])#print (new_tri)#print (new_rect)\n",
    "    new_tri=reindex(new_tri)\n",
    "    new_rect=reindex(new_rect)\n",
    "    #print (new_tri)\n",
    "    #print (new_rect)\n",
    "    #now I need to adjust the neumann and dirichlet arrays\n",
    "    bdry= new_bdry (coordinates, new_rect, new_tri)\n",
    "    \n",
    "    return [coordinates, new_tri, new_rect, bdry[0], bdry[1]]"
   ]
  },
  {
   "cell_type": "code",
   "execution_count": 968,
   "metadata": {},
   "outputs": [],
   "source": [
    "def reindex(liste):\n",
    "    #takes in a list [[...],[...],[...],...,[...]]\n",
    "    #indexes first subelement list[i][0] by increasing order\n",
    "    l=len(liste)\n",
    "    for i in range (l):\n",
    "        liste[i][0]=i+1\n",
    "    return liste"
   ]
  },
  {
   "cell_type": "code",
   "execution_count": 969,
   "metadata": {},
   "outputs": [
    {
     "name": "stdout",
     "output_type": "stream",
     "text": [
      "[4.10994547 3.18690199 7.35503611 4.75447458 7.6628622 ]\n",
      "[-8.88178420e-16 -2.00000000e+00 -2.00000000e+00 -2.00000000e+00\n",
      " -2.00000000e+00 -2.00000000e+00 -2.00000000e+00 -2.00000000e+00\n",
      " -2.00000000e+00 -2.00000000e+00 -2.00000000e+00 -2.00000000e+00\n",
      " -2.00000000e+00 -2.00000000e+00 -2.00000000e+00 -2.00000000e+00\n",
      " -2.00000000e+00 -2.00000000e+00 -2.00000000e+00  0.00000000e+00\n",
      "  4.44089210e-16  0.00000000e+00  5.55111512e-16  8.88178420e-16\n",
      "  0.00000000e+00  0.00000000e+00  6.66133815e-16]\n"
     ]
    }
   ],
   "source": [
    "coordinates = [[1,0.0,0.0],[2,1.0,0.0],[3,1.59,0.0],[4,2.0,1.0],[5,3.0,1.41],[6,3.0,2.0],[7,3.0,3.0],\n",
    "               [8,2.0,3.0],[9,1.0,3.0],[10,0.0,3.0],[11,0.0,2.0],[12,0.0,1.0],[13,1.0,1.0],[14,1.0,2.0],[15,2.0,2.0]]#print coordinates\n",
    "#maybe I dont need to have 15x3 array, maybe just 15x2 because then index gives me back the first number?\n",
    "triangles = [[1,2,3,13],[2,3,4,13],[3,4,5,15],[4,5,6,15]]\n",
    "rectangles = [[1,1,2,13,12],[2,12,13,14,11],[3,13,4,15,14],[4,11,14,9,10],[5,14,15,8,9],[6,15,6,7,8]]\n",
    "neumann= [[1,5,6],[2,6,7],[3,1,2],[4,2,3]]\n",
    "dirichlet = [[1,3,4],[2,4,5],[3,7,8],[4,8,9],[5,9,10],[6,10,11],[7,11,12],[8,12,1] ]\n",
    "\n",
    "\n",
    "\n",
    "A=mat_assembly (rectangles, triangles, coordinates)\n",
    "b=b_assembly (triangles, rectangles, neumann, coordinates)\n",
    "U_sol=solve_free (A, b, coordinates, dirichlet) \n",
    "print (U_sol)\n",
    "\n",
    "new=mesh_refinement (coordinates, triangles, rectangles)\n",
    "\n",
    "A=mat_assembly (new[2], new[1], new[0])\n",
    "b=b_assembly (new[1], new[2], new[3], new[0])\n",
    "U_sol=solve_free (A, b, new[0], new[4]) \n",
    "print (U_sol)\n",
    "\n",
    "\n",
    "\n"
   ]
  },
  {
   "cell_type": "markdown",
   "metadata": {
    "collapsed": true
   },
   "source": [
    "So I can tell there's a bug in my program because the mesh refinement should just give me move accurate values, not completely different values. I can't pin the problem though because on one hand the matrix assembly and boundary conditions assembly seem fine, and on the other the mesh refinement work well too. So maybe the problem is in the ordering of the nodes/edges after refinement, but I'm not sure how to fix it. "
   ]
  },
  {
   "cell_type": "code",
   "execution_count": null,
   "metadata": {},
   "outputs": [],
   "source": []
  }
 ],
 "metadata": {
  "kernelspec": {
   "display_name": "Python 3",
   "language": "python",
   "name": "python3"
  },
  "language_info": {
   "codemirror_mode": {
    "name": "ipython",
    "version": 3
   },
   "file_extension": ".py",
   "mimetype": "text/x-python",
   "name": "python",
   "nbconvert_exporter": "python",
   "pygments_lexer": "ipython3",
   "version": "3.7.4"
  }
 },
 "nbformat": 4,
 "nbformat_minor": 2
}
